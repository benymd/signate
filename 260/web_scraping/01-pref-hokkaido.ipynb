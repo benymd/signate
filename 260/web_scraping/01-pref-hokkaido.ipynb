{
 "cells": [
  {
   "cell_type": "markdown",
   "metadata": {},
   "source": [
    "# 北海道　報道発表資料"
   ]
  },
  {
   "cell_type": "markdown",
   "metadata": {},
   "source": [
    "北海道が発表した新型コロナの患者情報のスクレイピングを行います。詳細はpdfファイルでスクレイピングできないため、患者一覧だけです。"
   ]
  },
  {
   "cell_type": "code",
   "execution_count": 1,
   "metadata": {},
   "outputs": [
    {
     "name": "stdout",
     "output_type": "stream",
     "text": [
      "created: data/01-pref-hokkaido_20200412T1913.csv\n"
     ]
    }
   ],
   "source": [
    "!python exp/nb_01-pref-hokkaido.py"
   ]
  },
  {
   "cell_type": "code",
   "execution_count": null,
   "metadata": {},
   "outputs": [],
   "source": []
  }
 ],
 "metadata": {
  "kernelspec": {
   "display_name": "Environment (conda_pytorch131)",
   "language": "python",
   "name": "conda_pytorch131"
  },
  "language_info": {
   "codemirror_mode": {
    "name": "ipython",
    "version": 3
   },
   "file_extension": ".py",
   "mimetype": "text/x-python",
   "name": "python",
   "nbconvert_exporter": "python",
   "pygments_lexer": "ipython3",
   "version": "3.7.5"
  }
 },
 "nbformat": 4,
 "nbformat_minor": 4
}
