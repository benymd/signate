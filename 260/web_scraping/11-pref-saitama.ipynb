{
 "cells": [
  {
   "cell_type": "markdown",
   "metadata": {},
   "source": [
    "# 埼玉県発表データの Web Scraping"
   ]
  },
  {
   "cell_type": "markdown",
   "metadata": {},
   "source": [
    "埼玉県が発表した新型コロナの患者情報のスクレイピングを行います。県内他の市町村から発表された情報は含まれていません。\n",
    "\n",
    "2020/04/11 発表より、詳細情報がpdfファイルになったため、スクレイピングは 4/10分までです。"
   ]
  },
  {
   "cell_type": "code",
   "execution_count": 1,
   "metadata": {},
   "outputs": [
    {
     "name": "stdout",
     "output_type": "stream",
     "text": [
      "['https://www.pref.saitama.lg.jp/a0001/news/page/2020/0412-02.html', '新型コロナウイルスに関連した患者等の発生について（県内357～363例目、379～403例目、県発表243例目～274例目）']\n",
      "['https://www.pref.saitama.lg.jp/a0001/news/page/2020/0411-01.html', '新型コロナウイルスに関連した患者等の発生について（県内339～356例目、県発表225例目～242例目）']\n",
      "['https://www.pref.saitama.lg.jp/a0001/news/page/2020/0410-07.html', '新型コロナウイルスに関連した患者等の発生について（県内288、299～338例目、県発表184例目～224例目）']\n",
      "['https://www.pref.saitama.lg.jp/a0001/news/page/2020/0409-04.html', '新型コロナウイルスに関連した患者の発生について（県内252、253例目、266～287例目、県発表160例目～183例目）']\n",
      "['https://www.pref.saitama.lg.jp/a0001/news/page/2020/0408-2.html', '新型コロナウイルスに関連した患者の発生について（県内229例目～251例目、県発表137例目～159例目）']\n",
      "['https://www.pref.saitama.lg.jp/a0001/news/page/2020/0407-04.html', '新型コロナウイルスに関連した患者の発生について（県内203例目～207例目、県発表132例目～136例目）']\n",
      "['https://www.pref.saitama.lg.jp/a0001/news/page/2020/0406-05.html', '新型コロナウイルスに関連した患者等の発生について県内191例目～201例目、県発表121例目～131例目）']\n",
      "['https://www.pref.saitama.lg.jp/a0001/news/page/2020/0405-01.html', '新型コロナウイルスに関連した患者等の発生について（県内153例目、169例目～186例目、県発表102～120例目）']\n",
      "['https://www.pref.saitama.lg.jp/a0001/news/page/2020/0404-01.html', '新型コロナウイルスに関連した患者の発生について（県内139例目～152例目、県発表88～101例目）']\n",
      "['https://www.pref.saitama.lg.jp/a0001/news/page/2020/0403-03.html', '新型コロナウイルスに関連した患者の発生について（県内112例目・113例目、123例目～133例目、県発表75～87例目）']\n",
      "['https://www.pref.saitama.lg.jp/a0001/news/page/2020/0402-02.html', '新型コロナウイルスに関連した患者の発生について（県内107～111例目、県発表70～74例目）']\n",
      "['https://www.pref.saitama.lg.jp/a0001/news/page/2020/0401-08.html', '新型コロナウイルスに関連した患者等の発生について（県内105～106例目、県発表68～69例目）']\n",
      "['https://www.pref.saitama.lg.jp/a0001/news/page/2019/0331-11.html', '新型コロナウイルスに関連した患者等の発生について（県内94～103例目、県発表58～67例目）']\n",
      "['https://www.pref.saitama.lg.jp/a0001/news/page/2019/0329-01.html', '新型コロナウイルスに関連した患者の発生について（県内83～84例目、県発表56～57例目）']\n",
      "['https://www.pref.saitama.lg.jp/a0001/news/page/2019/0328-01.html', '新型コロナウイルスに関連した患者等の発生について（県内78～82例目、県発表51～55例目）']\n",
      "['https://www.pref.saitama.lg.jp/a0001/news/page/2019/0327-21.html', '新型コロナウイルスに関連した患者の発生について（県内74～76例目、県発表48～50例目）']\n",
      "['https://www.pref.saitama.lg.jp/a0001/news/page/2019/0326-90.html', '新型コロナウイルスに関連した患者の発生について（県内66～70例目、県発表43～47例目）']\n",
      "['https://www.pref.saitama.lg.jp/a0001/news/page/2019/0325-07.html', '新型コロナウイルスに関連した患者等の発生について（県内63例目、県発表42例目）']\n",
      "['https://www.pref.saitama.lg.jp/a0001/news/page/2019/0324-10.html', '新型コロナウイルスに関連した患者の発生について（県内56～61例目、県発表36～41例目）']\n",
      "['https://www.pref.saitama.lg.jp/a0001/news/page/2019/0323-13.html', '新型コロナウイルスに関連した患者の発生について（県内55例目、県発表35例目）']\n",
      "['https://www.pref.saitama.lg.jp/a0001/news/page/2019/0322-01.html', '新型コロナウイルスに関連した患者の発生について（県内53、54例目、県発表33、34例目）']\n",
      "['https://www.pref.saitama.lg.jp/a0001/news/page/2019/0321-01.html', '新型コロナウイルスに関連した患者の発生について（県内46、47例目、県発表31、32例目）']\n",
      "['https://www.pref.saitama.lg.jp/a0001/news/page/2019/0320-01.html', '新型コロナウイルスに関連した患者等の発生について（県内44例目、県発表30例目）']\n",
      "['https://www.pref.saitama.lg.jp/a0001/news/page/2019/0319-08.html', '新型コロナウイルスに関連した患者の発生について（県内39～42例目、県発表26～29例目）']\n",
      "['https://www.pref.saitama.lg.jp/a0001/news/page/2019/0318-08.html', '新型コロナウイルスに関連した患者の発生について（県内38例目、県発表25例目）']\n",
      "['https://www.pref.saitama.lg.jp/a0001/news/page/2019/0317-04.html', '新型コロナウイルスに関連した患者の発生について（県内34～37例目、県発表21～24例目）']\n",
      "['https://www.pref.saitama.lg.jp/a0001/news/page/2019/0314-01.html', '新型コロナウイルスに関連した患者の発生について（県内31例目・32例目、県発表19例目・20例目）']\n",
      "['https://www.pref.saitama.lg.jp/a0001/news/page/2019/0313-06.html', '新型コロナウイルスに関連した患者の発生について（25例目）']\n",
      "['https://www.pref.saitama.lg.jp/a0001/news/page/2019/0312-06.html', '新型コロナウイルスに関連した患者の発生について（18例目～21例目）']\n",
      "['https://www.pref.saitama.lg.jp/a0001/news/page/2019/0311-04.html', '新型コロナウイルスに関連した患者の発生について']\n",
      "['https://www.pref.saitama.lg.jp/a0001/news/page/2019/0310-05.html', '新型コロナウイルスに関連した患者の発生について']\n",
      "['https://www.pref.saitama.lg.jp/a0001/news/page/2019/0308-01.html', '新型コロナウイルスに関連した患者の発生について']\n",
      "['https://www.pref.saitama.lg.jp/a0001/news/page/2019/0306-10.html', '新型コロナウイルスに関連した患者の発生について']\n",
      "['https://www.pref.saitama.lg.jp/a0001/news/page/2019/0305-08.html', '新型コロナウイルスに関連した患者の発生について']\n",
      "['https://www.pref.saitama.lg.jp/a0001/news/page/2019/0221-99.html', '新型コロナウイルスに関連した患者の発生について']\n",
      "['https://www.pref.saitama.lg.jp/a0001/news/page/2019/0211-01.html', '新型コロナウイルスに関連した患者の発生について']\n",
      "created: data/11-pref-saitama_20200412T2353.csv\n"
     ]
    }
   ],
   "source": [
    "!python exp/nb_11-pref-saitama.py"
   ]
  },
  {
   "cell_type": "code",
   "execution_count": null,
   "metadata": {},
   "outputs": [],
   "source": []
  }
 ],
 "metadata": {
  "kernelspec": {
   "display_name": "Environment (conda_pytorch131)",
   "language": "python",
   "name": "conda_pytorch131"
  },
  "language_info": {
   "codemirror_mode": {
    "name": "ipython",
    "version": 3
   },
   "file_extension": ".py",
   "mimetype": "text/x-python",
   "name": "python",
   "nbconvert_exporter": "python",
   "pygments_lexer": "ipython3",
   "version": "3.7.5"
  }
 },
 "nbformat": 4,
 "nbformat_minor": 4
}
