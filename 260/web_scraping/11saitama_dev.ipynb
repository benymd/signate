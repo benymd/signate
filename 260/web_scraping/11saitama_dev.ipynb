{
 "cells": [
  {
   "cell_type": "markdown",
   "metadata": {},
   "source": [
    "# 埼玉県発表データの Web Scraping"
   ]
  },
  {
   "cell_type": "code",
   "execution_count": 1,
   "metadata": {},
   "outputs": [],
   "source": [
    "#export\n",
    "import bs4\n",
    "import re\n",
    "import csv\n",
    "import datetime\n",
    "import requests"
   ]
  },
  {
   "cell_type": "code",
   "execution_count": 2,
   "metadata": {},
   "outputs": [],
   "source": [
    "#export\n",
    "URL = 'https://www.pref.saitama.lg.jp/a0701/covid19/jokyo.html'"
   ]
  },
  {
   "cell_type": "code",
   "execution_count": 3,
   "metadata": {},
   "outputs": [],
   "source": [
    "#export\n",
    "def get_src():\n",
    "    response = requests.get(URL)\n",
    "    response.encoding = response.apparent_encoding\n",
    "    return bs4.BeautifulSoup(response.text, 'html.parser')"
   ]
  },
  {
   "cell_type": "code",
   "execution_count": 4,
   "metadata": {},
   "outputs": [],
   "source": [
    "src = get_src()\n",
    "#src"
   ]
  },
  {
   "cell_type": "code",
   "execution_count": 5,
   "metadata": {},
   "outputs": [],
   "source": [
    "#export\n",
    "def _get_table(src):\n",
    "    tbody = src.find_all(\"tbody\")[2]\n",
    "    return tbody.find_all('tr')"
   ]
  },
  {
   "cell_type": "code",
   "execution_count": 6,
   "metadata": {},
   "outputs": [],
   "source": [
    "table = _get_table(src)\n",
    "#table"
   ]
  },
  {
   "cell_type": "code",
   "execution_count": 7,
   "metadata": {},
   "outputs": [],
   "source": [
    "#export\n",
    "def _header(table):\n",
    "    return [th.text.strip() for th in table[0].find_all('th')]"
   ]
  },
  {
   "cell_type": "code",
   "execution_count": 8,
   "metadata": {},
   "outputs": [
    {
     "data": {
      "text/plain": [
       "['No.', '判明日', '年代', '性別', '居住地', '現状', '周囲の患者の発生', '濃厚接触者の状況']"
      ]
     },
     "execution_count": 8,
     "metadata": {},
     "output_type": "execute_result"
    }
   ],
   "source": [
    "col = _header(table)\n",
    "col"
   ]
  },
  {
   "cell_type": "code",
   "execution_count": 9,
   "metadata": {},
   "outputs": [],
   "source": [
    "#export\n",
    "def _parse_no(td):\n",
    "    if td.a:\n",
    "        return td.a.get_text(), td.a.get('href')\n",
    "    else:\n",
    "        return td.text.strip(), 'NA'"
   ]
  },
  {
   "cell_type": "code",
   "execution_count": 10,
   "metadata": {},
   "outputs": [
    {
     "data": {
      "text/plain": [
       "b'\\\\u3002'"
      ]
     },
     "execution_count": 10,
     "metadata": {},
     "output_type": "execute_result"
    }
   ],
   "source": [
    "'。'.encode('unicode-escape')"
   ]
  },
  {
   "cell_type": "code",
   "execution_count": 11,
   "metadata": {},
   "outputs": [],
   "source": [
    "#export\n",
    "def _trim(td):\n",
    "    return re.sub('\\r\\n\\s+', '\\u3002', re.sub('[\\xa0\\u3000]', '', td.text))"
   ]
  },
  {
   "cell_type": "code",
   "execution_count": 12,
   "metadata": {},
   "outputs": [],
   "source": [
    "#export\n",
    "def _parse(table, colum_num):\n",
    "    patients = []\n",
    "    for tr in table[1:]:\n",
    "        tds = tr.find_all('td')\n",
    "        no, link = _parse_no(tds[0])\n",
    "        td = [no]\n",
    "        for t in tds[1:]:\n",
    "            td.append(_trim(t))\n",
    "        for i in range(colum_num-len(td)):\n",
    "            td.append('')\n",
    "        td.append(link)\n",
    "        patients.append(td)\n",
    "    return patients"
   ]
  },
  {
   "cell_type": "code",
   "execution_count": 13,
   "metadata": {},
   "outputs": [],
   "source": [
    "patients = _parse(table, len(col))\n",
    "#patients"
   ]
  },
  {
   "cell_type": "code",
   "execution_count": 14,
   "metadata": {},
   "outputs": [],
   "source": [
    "#export\n",
    "def get_patients():\n",
    "    src = get_src()\n",
    "    table = _get_table(src)\n",
    "    col = _header(table)\n",
    "    return _parse(table, len(col))"
   ]
  },
  {
   "cell_type": "code",
   "execution_count": 15,
   "metadata": {},
   "outputs": [],
   "source": [
    "patients = get_patients()\n",
    "#patients"
   ]
  },
  {
   "cell_type": "code",
   "execution_count": 16,
   "metadata": {},
   "outputs": [],
   "source": [
    "#export\n",
    "def create_fname(base):\n",
    "    now = datetime.datetime.now()\n",
    "    return base + '_' + now.strftime('%Y%m%dT%H%M') + \".csv\""
   ]
  },
  {
   "cell_type": "code",
   "execution_count": 17,
   "metadata": {},
   "outputs": [
    {
     "data": {
      "text/plain": [
       "'11saitama_20200403T1627.csv'"
      ]
     },
     "execution_count": 17,
     "metadata": {},
     "output_type": "execute_result"
    }
   ],
   "source": [
    "create_fname(\"11saitama\")"
   ]
  },
  {
   "cell_type": "code",
   "execution_count": 18,
   "metadata": {},
   "outputs": [],
   "source": [
    "#export\n",
    "def write_csv(patients, fname):\n",
    "    with open(fname, 'w') as f:\n",
    "        writer = csv.writer(f)\n",
    "        writer.writerows(patients)"
   ]
  },
  {
   "cell_type": "code",
   "execution_count": 19,
   "metadata": {},
   "outputs": [],
   "source": [
    "#write_csv(patients, create_fname(\"data/11saitama\"))"
   ]
  },
  {
   "cell_type": "code",
   "execution_count": 20,
   "metadata": {},
   "outputs": [],
   "source": [
    "#export\n",
    "def main():\n",
    "    patients = get_patients()\n",
    "    write_csv(patients, create_fname(\"data/11saitama\"))"
   ]
  },
  {
   "cell_type": "code",
   "execution_count": 21,
   "metadata": {},
   "outputs": [],
   "source": [
    "#export\n",
    "if __name__ == '__main__':\n",
    "    main()"
   ]
  },
  {
   "cell_type": "code",
   "execution_count": 22,
   "metadata": {},
   "outputs": [
    {
     "name": "stdout",
     "output_type": "stream",
     "text": [
      "Converted 11saitama_dev.ipynb to exp/nb_11saitama.py\n"
     ]
    }
   ],
   "source": [
    "# See: https://github.com/fastai/course-v3/blob/master/nbs/dl2/notebook2script.py\n",
    "!python notebook2script.py 11saitama_dev.ipynb"
   ]
  }
 ],
 "metadata": {
  "kernelspec": {
   "display_name": "Environment (conda_pytorch131)",
   "language": "python",
   "name": "conda_pytorch131"
  },
  "language_info": {
   "codemirror_mode": {
    "name": "ipython",
    "version": 3
   },
   "file_extension": ".py",
   "mimetype": "text/x-python",
   "name": "python",
   "nbconvert_exporter": "python",
   "pygments_lexer": "ipython3",
   "version": "3.7.5"
  }
 },
 "nbformat": 4,
 "nbformat_minor": 4
}
