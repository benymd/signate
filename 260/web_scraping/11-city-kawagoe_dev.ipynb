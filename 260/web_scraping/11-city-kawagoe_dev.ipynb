{
 "cells": [
  {
   "cell_type": "markdown",
   "metadata": {},
   "source": [
    "# 埼玉県川越市　報道発表資料"
   ]
  },
  {
   "cell_type": "markdown",
   "metadata": {},
   "source": [
    "埼玉県川越市が発表した新型コロナの患者情報のスクレイピングを行います。県内他の市町村から発表された情報は含まれていません。"
   ]
  },
  {
   "cell_type": "code",
   "execution_count": 1,
   "metadata": {},
   "outputs": [],
   "source": [
    "%reload_ext autoreload\n",
    "%autoreload 2\n",
    "%matplotlib inline"
   ]
  },
  {
   "cell_type": "code",
   "execution_count": 2,
   "metadata": {},
   "outputs": [],
   "source": [
    "#export\n",
    "import bs4\n",
    "import re\n",
    "import csv\n",
    "import datetime\n",
    "import requests\n",
    "from collections import defaultdict"
   ]
  },
  {
   "cell_type": "code",
   "execution_count": 3,
   "metadata": {},
   "outputs": [],
   "source": [
    "#export\n",
    "urls = ['https://www.city.kawagoe.saitama.jp/kenkofukushi/byoki_iryo/kansensho/COVID19-p-C.html']"
   ]
  },
  {
   "cell_type": "code",
   "execution_count": 4,
   "metadata": {},
   "outputs": [],
   "source": [
    "#export\n",
    "def trim_div(s):\n",
    "    return re.sub('<div>|<div .+?>|</div>', '', s)"
   ]
  },
  {
   "cell_type": "code",
   "execution_count": 5,
   "metadata": {},
   "outputs": [],
   "source": [
    "#export\n",
    "def get_src(url):\n",
    "    response = requests.get(url)\n",
    "    response.encoding = response.apparent_encoding\n",
    "    return bs4.BeautifulSoup(trim_div(response.text), 'html.parser')"
   ]
  },
  {
   "cell_type": "code",
   "execution_count": 6,
   "metadata": {},
   "outputs": [],
   "source": [
    "#get_src(urls[0])"
   ]
  },
  {
   "cell_type": "code",
   "execution_count": 7,
   "metadata": {},
   "outputs": [],
   "source": [
    "#export\n",
    "def get_links(urls):\n",
    "    domain = 'https://www.city.kawagoe.saitama.jp/'\n",
    "    filter = '新型コロナウイルス.+患者.+発生'\n",
    "    links = []\n",
    "    for url in urls:\n",
    "        src = get_src(url)\n",
    "        links.extend(src.find_all(lambda tag: tag.name == 'a' and re.search(filter, tag.get_text()) != None))\n",
    "    return [[domain + tag['href'], tag.get_text()] for tag in links]"
   ]
  },
  {
   "cell_type": "code",
   "execution_count": 8,
   "metadata": {},
   "outputs": [
    {
     "data": {
      "text/plain": [
       "[['https://www.city.kawagoe.saitama.jp//kenkofukushi/byoki_iryo/kansensho/COVID-19-p0408.html',\n",
       "  '新型コロナウイルスに関連した患者の発生について（4月8日発表分）'],\n",
       " ['https://www.city.kawagoe.saitama.jp//kenkofukushi/byoki_iryo/kansensho/COVID-19-p0407.html',\n",
       "  '新型コロナウイルスに関連した患者の発生について（4月7日発表分）'],\n",
       " ['https://www.city.kawagoe.saitama.jp//kenkofukushi/byoki_iryo/kansensho/COVID-19-p0405.html',\n",
       "  '新型コロナウイルスに関連した患者の発生について（4月5日発表分）'],\n",
       " ['https://www.city.kawagoe.saitama.jp//kenkofukushi/byoki_iryo/kansensho/COVID-19-p0404.html',\n",
       "  '新型コロナウイルスに関連した患者の発生について（4月4日発表分）'],\n",
       " ['https://www.city.kawagoe.saitama.jp//kenkofukushi/byoki_iryo/kansensho/COVID-19-p0403.html',\n",
       "  '新型コロナウイルスに関連した患者の発生について(4月3日発表分) ']]"
      ]
     },
     "execution_count": 8,
     "metadata": {},
     "output_type": "execute_result"
    }
   ],
   "source": [
    "links = get_links(urls)\n",
    "links"
   ]
  },
  {
   "cell_type": "code",
   "execution_count": 9,
   "metadata": {},
   "outputs": [],
   "source": [
    "def get_sample(urls, i):\n",
    "    links = get_links(urls)\n",
    "    return get_src(links[i][0])\n",
    "#get_sample(urls, 0)"
   ]
  },
  {
   "cell_type": "code",
   "execution_count": 10,
   "metadata": {},
   "outputs": [
    {
     "name": "stdout",
     "output_type": "stream",
     "text": [
      "<class 'bs4.element.Tag'> h3 ['概要1(本市13例目)']\n",
      "<class 'bs4.element.Tag'> ol [<li>年代：20歳代</li>, <li>性別：男性</li>, <li>職業：飲食業（東京都内勤務）</li>, <li>居住地：川越市</li>, <li>症状・経過<br/>4月1日：倦怠感あり。<br/>4月2日：出勤（20時～0時50分）。体温37.3度、咳症状あり。徐々に味覚嗅覚異常を感じる。<br/>4月4日：体温37.8度。市内Ａ医療機関を受診。<br/>4月6日：咳、全身倦怠感、味覚嗅覚異常が続いていたため、市内Ａ医療機関を受診。PCR検体採取。<br/>4月8日：PCR検査の結果、陽性判明。</li>, <li>渡航歴・患者との接触歴：なし</li>, <li>現在の症状：入院調整中。状態は安定している。</li>, <li>濃厚接触者：<br/>●家族4人<br/>　祖父：70歳代、症状なし・自宅待機中<br/>　祖母：70歳代、症状なし・自宅待機中<br/>　母：40歳代、症状なし・自宅待機中<br/>　同居人（男性）：40歳代、症状なし・自宅待機中<br/>●その他：現在調査中</li>, <li>その他<br/>・外出時は常にマスク着用。<br/>・発症日以降に利用した公共交通機関は4月4日のみで、副都心線東新宿から和光市乗り換えで東武東上線鶴ヶ島駅。<br/>・スポーツクラブ、大型商業施設等の利用なし。<br/></li>]\n",
      "<class 'bs4.element.Tag'> h3 ['概要2(本市14例目)']\n",
      "<class 'bs4.element.Tag'> ol [<li>年代：30歳代</li>, <li>性別：男性</li>, <li>職業：自営業</li>, <li>居住地：川越市</li>, <li>症状・経過<br/>3月30日：風邪症状あり。<br/>4月1日：出勤（マスク着用）。発熱はなし。咽頭の違和感あり、市内Ｂ医療機関受診。<br/>4月2日：体温38.5度。市内Ｂ医療機関を受診。<br/>4月4日：体温39.5度。<br/>4月6日：症状続いていたため、市内Ｂ医療機関を受診。<br/>4月7日：咳症状が悪化。市内Ｃ医療機関受診。PCR検体採取。<br/>4月8日：PCR検査の結果、陽性判明。<br/></li>, <li>渡航歴・患者との接触歴：なし</li>, <li>現在の症状：入院調整中。状態は安定している。</li>, <li>濃厚接触者：<br/>●家族3人<br/>　妻：40歳代、症状なし・自宅待機<br/>　長女：未就学、3月末頃より風邪症状あり・自宅待機中<br/>　長男：未就学、3月末頃より風邪症状あり・自宅待機中<br/>●その他：現在調査中</li>, <li>その他<br/>・外出時は常にマスク着用。発症日以降の外出はなし。<br/>・スポーツクラブ、大型商業施設等の利用なし。<br/></li>]\n"
     ]
    }
   ],
   "source": [
    "def show_contents(url):\n",
    "    src = get_src(url)\n",
    "    \n",
    "    def get_text(tag):\n",
    "        return tag.get_text().strip()\n",
    "    \n",
    "    h = src.body.find(lambda tag: tag.name == 'h3')\n",
    "    for e in h.previous_sibling.next_siblings:\n",
    "        if isinstance(e, bs4.element.Tag):\n",
    "            if e.name == 'h2':\n",
    "                break\n",
    "            print(type(e), e.name, e.contents)\n",
    "\n",
    "src = show_contents(links[0][0])\n",
    "src"
   ]
  },
  {
   "cell_type": "code",
   "execution_count": 11,
   "metadata": {},
   "outputs": [],
   "source": [
    "#export\n",
    "header = ['No','年代','性別','職業','居住地','症状・経過','渡航歴・患者との接触歴','現在の症状','濃厚接触者','その他','url']"
   ]
  },
  {
   "cell_type": "code",
   "execution_count": 12,
   "metadata": {},
   "outputs": [],
   "source": [
    "#export\n",
    "def parse(src, url):\n",
    "    \n",
    "    def get_text(tag):\n",
    "        return tag.get_text().strip()\n",
    "    \n",
    "    def get_contents(src):\n",
    "        h = src.body.find(lambda tag: tag.name == 'h3')\n",
    "        return h.previous_sibling.next_siblings\n",
    "    \n",
    "    def parse_h3(e):\n",
    "        no = re.sub(\"\\\\D\", \"\", get_text(e))\n",
    "        return no if len(no) > 0 else '0'\n",
    "    \n",
    "    def parse_ol(e):\n",
    "        item = {}\n",
    "        for li in e.find_all('li'):\n",
    "            #print(type(li), li.name, li.get_text())\n",
    "            if li.string:\n",
    "                split = re.split('[：:]', get_text(li))\n",
    "                if len(split) > 1:\n",
    "                    item[split[0]] = split[1]\n",
    "                else:\n",
    "                    print(type(e), e.name, e.get_text())\n",
    "            else:\n",
    "                split = [c.string for c in li.contents if c.string] # <br/> を削除\n",
    "                split[0] = re.sub('[：:]', '', split[0])\n",
    "                item[split[0]] = split[1:]\n",
    "        return item\n",
    "        \n",
    "    def dic2array(item):\n",
    "        return [item[h] for h in header]\n",
    "\n",
    "    patients = []\n",
    "    item = defaultdict(lambda: '')\n",
    "    for e in get_contents(src):\n",
    "        if isinstance(e, bs4.element.Tag):\n",
    "            if e.name == 'h2':\n",
    "                break\n",
    "            if e.name == 'h3':\n",
    "                if len(item) > 0:\n",
    "                    item[header[-1]] = url\n",
    "                    patients.append(dic2array(item))\n",
    "                    item = defaultdict(lambda: '')\n",
    "                item[header[0]] = parse_h3(e)\n",
    "            elif e.name == 'ol':\n",
    "                item.update(parse_ol(e))\n",
    "            else:\n",
    "                print(type(e), e.name, e.get_text())\n",
    "    if len(item) > 0:\n",
    "        item['url'] = url\n",
    "        patients.append(dic2array(item))\n",
    "    return patients"
   ]
  },
  {
   "cell_type": "code",
   "execution_count": 13,
   "metadata": {},
   "outputs": [],
   "source": [
    "#export\n",
    "def get_patient(url):\n",
    "    src = get_src(url)\n",
    "    return parse(src, url)"
   ]
  },
  {
   "cell_type": "code",
   "execution_count": 14,
   "metadata": {},
   "outputs": [
    {
     "data": {
      "text/plain": [
       "[['113',\n",
       "  '20歳代',\n",
       "  '男性',\n",
       "  '飲食業（東京都内勤務）',\n",
       "  '川越市',\n",
       "  ['4月1日：倦怠感あり。',\n",
       "   '4月2日：出勤（20時～0時50分）。体温37.3度、咳症状あり。徐々に味覚嗅覚異常を感じる。',\n",
       "   '4月4日：体温37.8度。市内Ａ医療機関を受診。',\n",
       "   '4月6日：咳、全身倦怠感、味覚嗅覚異常が続いていたため、市内Ａ医療機関を受診。PCR検体採取。',\n",
       "   '4月8日：PCR検査の結果、陽性判明。'],\n",
       "  'なし',\n",
       "  '入院調整中。状態は安定している。',\n",
       "  ['●家族4人',\n",
       "   '\\u3000祖父：70歳代、症状なし・自宅待機中',\n",
       "   '\\u3000祖母：70歳代、症状なし・自宅待機中',\n",
       "   '\\u3000母：40歳代、症状なし・自宅待機中',\n",
       "   '\\u3000同居人（男性）：40歳代、症状なし・自宅待機中',\n",
       "   '●その他：現在調査中'],\n",
       "  ['・外出時は常にマスク着用。',\n",
       "   '・発症日以降に利用した公共交通機関は4月4日のみで、副都心線東新宿から和光市乗り換えで東武東上線鶴ヶ島駅。',\n",
       "   '・スポーツクラブ、大型商業施設等の利用なし。'],\n",
       "  'https://www.city.kawagoe.saitama.jp//kenkofukushi/byoki_iryo/kansensho/COVID-19-p0408.html'],\n",
       " ['214',\n",
       "  '30歳代',\n",
       "  '男性',\n",
       "  '自営業',\n",
       "  '川越市',\n",
       "  ['3月30日：風邪症状あり。',\n",
       "   '4月1日：出勤（マスク着用）。発熱はなし。咽頭の違和感あり、市内Ｂ医療機関受診。',\n",
       "   '4月2日：体温38.5度。市内Ｂ医療機関を受診。',\n",
       "   '4月4日：体温39.5度。',\n",
       "   '4月6日：症状続いていたため、市内Ｂ医療機関を受診。',\n",
       "   '4月7日：咳症状が悪化。市内Ｃ医療機関受診。PCR検体採取。',\n",
       "   '4月8日：PCR検査の結果、陽性判明。'],\n",
       "  'なし',\n",
       "  '入院調整中。状態は安定している。',\n",
       "  ['●家族3人',\n",
       "   '\\u3000妻：40歳代、症状なし・自宅待機',\n",
       "   '\\u3000長女：未就学、3月末頃より風邪症状あり・自宅待機中',\n",
       "   '\\u3000長男：未就学、3月末頃より風邪症状あり・自宅待機中',\n",
       "   '●その他：現在調査中'],\n",
       "  ['・外出時は常にマスク着用。発症日以降の外出はなし。', '・スポーツクラブ、大型商業施設等の利用なし。'],\n",
       "  'https://www.city.kawagoe.saitama.jp//kenkofukushi/byoki_iryo/kansensho/COVID-19-p0408.html']]"
      ]
     },
     "execution_count": 14,
     "metadata": {},
     "output_type": "execute_result"
    }
   ],
   "source": [
    "get_patient(links[0][0])"
   ]
  },
  {
   "cell_type": "code",
   "execution_count": 15,
   "metadata": {},
   "outputs": [],
   "source": [
    "#export\n",
    "def get_patients(urls):\n",
    "    patients = []\n",
    "    for link in get_links(urls):\n",
    "        print(link)\n",
    "        patients.extend(get_patient(link[0]))\n",
    "    return patients"
   ]
  },
  {
   "cell_type": "code",
   "execution_count": 16,
   "metadata": {},
   "outputs": [],
   "source": [
    "#export\n",
    "def create_fname(base):\n",
    "    now = datetime.datetime.now()\n",
    "    return base + '_' + now.strftime('%Y%m%dT%H%M') + \".csv\""
   ]
  },
  {
   "cell_type": "code",
   "execution_count": 17,
   "metadata": {},
   "outputs": [],
   "source": [
    "#export\n",
    "def write_csv(patients, fname):\n",
    "    with open(fname, 'w') as f:\n",
    "        writer = csv.writer(f)\n",
    "        writer.writerows(patients)"
   ]
  },
  {
   "cell_type": "code",
   "execution_count": 18,
   "metadata": {},
   "outputs": [],
   "source": [
    "#export\n",
    "def main():\n",
    "    patients = sorted(get_patients(urls), key=lambda x: int(x[0]))\n",
    "    patients.insert(0, header)\n",
    "    fname = create_fname(\"data/11-city-kawagoe\")\n",
    "    write_csv(patients, fname)\n",
    "    print(\"created:\", fname)"
   ]
  },
  {
   "cell_type": "code",
   "execution_count": 19,
   "metadata": {},
   "outputs": [
    {
     "name": "stdout",
     "output_type": "stream",
     "text": [
      "['https://www.city.kawagoe.saitama.jp//kenkofukushi/byoki_iryo/kansensho/COVID-19-p0408.html', '新型コロナウイルスに関連した患者の発生について（4月8日発表分）']\n",
      "['https://www.city.kawagoe.saitama.jp//kenkofukushi/byoki_iryo/kansensho/COVID-19-p0407.html', '新型コロナウイルスに関連した患者の発生について（4月7日発表分）']\n",
      "['https://www.city.kawagoe.saitama.jp//kenkofukushi/byoki_iryo/kansensho/COVID-19-p0405.html', '新型コロナウイルスに関連した患者の発生について（4月5日発表分）']\n",
      "['https://www.city.kawagoe.saitama.jp//kenkofukushi/byoki_iryo/kansensho/COVID-19-p0404.html', '新型コロナウイルスに関連した患者の発生について（4月4日発表分）']\n",
      "['https://www.city.kawagoe.saitama.jp//kenkofukushi/byoki_iryo/kansensho/COVID-19-p0403.html', '新型コロナウイルスに関連した患者の発生について(4月3日発表分) ']\n",
      "created: data/11-city-kawagoe_20200409T2125.csv\n"
     ]
    }
   ],
   "source": [
    "#export\n",
    "if __name__ == '__main__':\n",
    "    main()"
   ]
  },
  {
   "cell_type": "code",
   "execution_count": 21,
   "metadata": {},
   "outputs": [
    {
     "name": "stdout",
     "output_type": "stream",
     "text": [
      "Converted 11-city-kawagoe_dev.ipynb to exp/nb_11-city-kawagoe.py\n"
     ]
    }
   ],
   "source": [
    "# See: https://github.com/fastai/course-v3/blob/master/nbs/dl2/notebook2script.py\n",
    "!python notebook2script.py 11-city-kawagoe_dev.ipynb"
   ]
  },
  {
   "cell_type": "code",
   "execution_count": null,
   "metadata": {},
   "outputs": [],
   "source": []
  }
 ],
 "metadata": {
  "kernelspec": {
   "display_name": "Environment (conda_pytorch131)",
   "language": "python",
   "name": "conda_pytorch131"
  },
  "language_info": {
   "codemirror_mode": {
    "name": "ipython",
    "version": 3
   },
   "file_extension": ".py",
   "mimetype": "text/x-python",
   "name": "python",
   "nbconvert_exporter": "python",
   "pygments_lexer": "ipython3",
   "version": "3.7.5"
  }
 },
 "nbformat": 4,
 "nbformat_minor": 4
}
