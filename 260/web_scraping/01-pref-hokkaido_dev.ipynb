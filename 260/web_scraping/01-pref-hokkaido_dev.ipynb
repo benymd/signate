{
 "cells": [
  {
   "cell_type": "markdown",
   "metadata": {},
   "source": [
    "# 北海道 報道発表資料"
   ]
  },
  {
   "cell_type": "markdown",
   "metadata": {},
   "source": [
    "北海道が発表した新型コロナの患者情報のスクレイピングを行います。詳細はpdfファイルでスクレイピングできないため、患者一覧だけです。"
   ]
  },
  {
   "cell_type": "code",
   "execution_count": 1,
   "metadata": {},
   "outputs": [],
   "source": [
    "%reload_ext autoreload\n",
    "%autoreload 2\n",
    "%matplotlib inline"
   ]
  },
  {
   "cell_type": "code",
   "execution_count": 2,
   "metadata": {},
   "outputs": [],
   "source": [
    "#export\n",
    "import bs4\n",
    "import re\n",
    "import csv\n",
    "import datetime\n",
    "import requests\n",
    "from collections import defaultdict"
   ]
  },
  {
   "cell_type": "code",
   "execution_count": 3,
   "metadata": {},
   "outputs": [],
   "source": [
    "#export\n",
    "urls = ['http://www.pref.hokkaido.lg.jp/hf/kth/kak/hasseijoukyou.htm']"
   ]
  },
  {
   "cell_type": "code",
   "execution_count": 4,
   "metadata": {},
   "outputs": [],
   "source": [
    "#export\n",
    "def trim_div(s):\n",
    "    return re.sub('<div>|<div .+?>|</div>', '', s)"
   ]
  },
  {
   "cell_type": "code",
   "execution_count": 5,
   "metadata": {},
   "outputs": [],
   "source": [
    "#export\n",
    "def get_src(url):\n",
    "    response = requests.get(url)\n",
    "    response.encoding = response.apparent_encoding\n",
    "    s = trim_div(response.text)\n",
    "    return bs4.BeautifulSoup(s, 'html.parser')"
   ]
  },
  {
   "cell_type": "code",
   "execution_count": 6,
   "metadata": {},
   "outputs": [],
   "source": [
    "#export\n",
    "def get_links(urls):\n",
    "    domain = 'http://www.pref.hokkaido.lg.jp'\n",
    "    filter = '新型コロナウイルス.+患者.+発生'\n",
    "    links = []\n",
    "    for url in urls:\n",
    "        src = get_src(url)\n",
    "        links.extend(src.find_all(lambda tag: tag.name == 'a' and re.search(filter, tag.get_text()) != None))\n",
    "    return [[domain + tag['href'], tag.get_text()] for tag in links]"
   ]
  },
  {
   "cell_type": "code",
   "execution_count": 7,
   "metadata": {},
   "outputs": [
    {
     "data": {
      "text/plain": [
       "[['http://www.pref.hokkaido.lg.jp/file.jsp?id=1289117',\n",
       "  '新型コロナウイルスに関連した患者（２６６～２６７例目）の発生について（報道発表資料:PDF)'],\n",
       " ['http://www.pref.hokkaido.lg.jp/file.jsp?id=1289114',\n",
       "  '新型コロナウイルスに関連した新たな患者（２５６～２６５例目）の発生について（札幌市報道発表資料:PDF)'],\n",
       " ['http://www.pref.hokkaido.lg.jp/file.jsp?id=1289113',\n",
       "  '新型コロナウイルスに関連した新たな患者（２４４～２５５例目）の発生について（札幌市報道発表資料:PDF)'],\n",
       " ['http://www.pref.hokkaido.lg.jp/file.jsp?id=1289112',\n",
       "  '新型コロナウイルスに関連した患者（２４０～２４３例目）の発生について（報道発表資料:PDF)'],\n",
       " ['http://www.pref.hokkaido.lg.jp/file.jsp?id=1289043',\n",
       "  '新型コロナウイルスに関連した新たな患者（２３２～２３９例目）の発生について（札幌市報道発表資料:PDF)'],\n",
       " ['http://www.pref.hokkaido.lg.jp/file.jsp?id=1289018',\n",
       "  '新型コロナウイルスに関連した患者（２２７～２３１例目）の発生について（報道発表資料:PDF)'],\n",
       " ['http://www.pref.hokkaido.lg.jp/file.jsp?id=1288690',\n",
       "  '新型コロナウイルスに関連した新たな患者（２２６例目）の発生について（旭川市報道発表資料:PDF)'],\n",
       " ['http://www.pref.hokkaido.lg.jp/file.jsp?id=1288682',\n",
       "  '新型コロナウイルスに関連した新たな患者（２１８～２２５例目）の発生について（札幌市報道発表資料:PDF)'],\n",
       " ['http://www.pref.hokkaido.lg.jp/file.jsp?id=1288608',\n",
       "  '新型コロナウイルスに関連した患者（２０９～２１７例目）の発生について（報道発表資料:PDF)'],\n",
       " ['http://www.pref.hokkaido.lg.jp/file.jsp?id=1288334',\n",
       "  '新型コロナウイルスに関連した患者（２０３～２０８例目）の発生について（報道発表資料:PDF)'],\n",
       " ['http://www.pref.hokkaido.lg.jp/file.jsp?id=1288174',\n",
       "  '新型コロナウイルスに関連した新たな患者（１９９～２０２例目）の発生について（札幌市報道発表資料:PDF)'],\n",
       " ['http://www.pref.hokkaido.lg.jp/file.jsp?id=1288037',\n",
       "  '新型コロナウイルスに関連した新たな患者（１９５～１９８例目）の発生について（札幌市報道発表資料:PDF)'],\n",
       " ['http://www.pref.hokkaido.lg.jp/file.jsp?id=1287441',\n",
       "  '新型コロナウイルスに関連した患者（１９４例目）の発生について（報道発表資料:PDF)'],\n",
       " ['http://www.pref.hokkaido.lg.jp/file.jsp?id=1287394',\n",
       "  '新型コロナウイルスに関連した患者（１９３例目）の発生について（報道発表資料:PDF)'],\n",
       " ['http://www.pref.hokkaido.lg.jp/file.jsp?id=1287395',\n",
       "  '新型コロナウイルスに関連した新たな患者（１９１～１９２例目）の発生について（札幌市報道発表資料:PDF)'],\n",
       " ['http://www.pref.hokkaido.lg.jp/file.jsp?id=1287269',\n",
       "  '新型コロナウイルスに関連した新たな患者（１８８～１９０例目）の発生について（札幌市報道発表資料:PDF)'],\n",
       " ['http://www.pref.hokkaido.lg.jp/file.jsp?id=1287324',\n",
       "  '新型コロナウイルスに関連した患者（１８６～１８７例目）の発生について（報道発表資料:PDF)'],\n",
       " ['http://www.pref.hokkaido.lg.jp/file.jsp?id=1286884',\n",
       "  '新型コロナウイルスに関連した患者（１８４～１８５例目）の発生について（報道発表資料:PDF)'],\n",
       " ['http://www.pref.hokkaido.lg.jp/file.jsp?id=1286839',\n",
       "  '新型コロナウイルスに関連した新たな患者（１８３例目）の発生について（札幌市報道発表資料:PDF)'],\n",
       " ['http://www.pref.hokkaido.lg.jp/file.jsp?id=1286562',\n",
       "  '新型コロナウイルスに関連した患者（１７８～１８２例目）の発生について（報道発表資料:PDF)'],\n",
       " ['http://www.pref.hokkaido.lg.jp/file.jsp?id=1285191',\n",
       "  '新型コロナウイルスに関連した患者（１７７例目）の発生について（報道発表資料:PDF)'],\n",
       " ['http://www.pref.hokkaido.lg.jp/file.jsp?id=1284665',\n",
       "  '新型コロナウイルスに関連した患者（１７６例目）の発生について（報道発表資料:PDF)'],\n",
       " ['http://www.pref.hokkaido.lg.jp/file.jsp?id=1284668',\n",
       "  '新型コロナウイルスに関連した新たな患者（１７３～１７５例目）の発生について（札幌市報道発表資料:PDF)'],\n",
       " ['http://www.pref.hokkaido.lg.jp/file.jsp?id=1284474',\n",
       "  '新型コロナウイルスに関連した新たな患者（１７２例目）の発生について（旭川市報道発表資料:PDF)'],\n",
       " ['http://www.pref.hokkaido.lg.jp/file.jsp?id=1284475',\n",
       "  '新型コロナウイルスに関連した新たな患者（１７１例目）の発生について（小樽市報道発表資料:PDF)'],\n",
       " ['http://www.pref.hokkaido.lg.jp/file.jsp?id=1284457',\n",
       "  '新型コロナウイルスに関連した新たな患者（１７０例目）の発生について（札幌市報道発表資料:PDF)'],\n",
       " ['http://www.pref.hokkaido.lg.jp/file.jsp?id=1284133',\n",
       "  '新型コロナウイルスに関連した新たな患者（１６９例目）の発生について（札幌市報道発表資料:PDF)'],\n",
       " ['http://www.pref.hokkaido.lg.jp/file.jsp?id=1283609',\n",
       "  '新型コロナウイルスに関連した患者（１６８例目）の発生について（報道発表資料:PDF)'],\n",
       " ['http://www.pref.hokkaido.lg.jp/file.jsp?id=1283093',\n",
       "  '新型コロナウイルスに関連した新たな患者（１６５～１６７例目）の発生について（札幌市報道発表資料:PDF）'],\n",
       " ['http://www.pref.hokkaido.lg.jp/file.jsp?id=1283097',\n",
       "  '新型コロナウイルスに関連した患者（１６４例目）の発生について（小樽市報道発表資料:PDF）'],\n",
       " ['http://www.pref.hokkaido.lg.jp/file.jsp?id=1282620',\n",
       "  '新型コロナウイルスに関連した新たな患者（１６３例目）の発生について（札幌市報道発表資料:PDF）'],\n",
       " ['http://www.pref.hokkaido.lg.jp/file.jsp?id=1281316',\n",
       "  '新型コロナウイルスに関連した新たな患者（１６１～１６２例目）の発生について（小樽市報道発表資料:PDF）'],\n",
       " ['http://www.pref.hokkaido.lg.jp/file.jsp?id=1281312',\n",
       "  '新型コロナウイルスに関連した新たな患者（１６０例目）の発生について（札幌市報道発表資料:PDF）'],\n",
       " ['http://www.pref.hokkaido.lg.jp/file.jsp?id=1281307',\n",
       "  '新型コロナウイルスに関連した患者（１５９例目）の発生について（報道発表資料:PDF）'],\n",
       " ['http://www.pref.hokkaido.lg.jp/file.jsp?id=1281303',\n",
       "  '新型コロナウイルスに関連した新たな患者（１５８例目）の発生について（札幌市報道発表資料:PDF）'],\n",
       " ['http://www.pref.hokkaido.lg.jp/file.jsp?id=1281229',\n",
       "  '新型コロナウイルスに関連した新たな患者（１５７例目）の発生について（旭川市報道発表資料:PDF）'],\n",
       " ['http://www.pref.hokkaido.lg.jp/file.jsp?id=1281204',\n",
       "  '新型コロナウイルスに関連した新たな患者（１５５～１５６例目）の発生について（札幌市報道発表資料:PDF）'],\n",
       " ['http://www.pref.hokkaido.lg.jp/file.jsp?id=1280754',\n",
       "  '新型コロナウイルスに関連した新たな患者（１５４例目）の発生について（札幌市報道発表資料:PDF）'],\n",
       " ['http://www.pref.hokkaido.lg.jp/file.jsp?id=1280726',\n",
       "  '新型コロナウイルスに関連した患者（１５３例目）の発生について（報道発表資料:PDF）'],\n",
       " ['http://www.pref.hokkaido.lg.jp/file.jsp?id=1279998',\n",
       "  '新型コロナウイルスに関連した新たな患者（１５０～１５２例目）の発生について（札幌市報道発表資料:PDF）'],\n",
       " ['http://www.pref.hokkaido.lg.jp/file.jsp?id=1279975',\n",
       "  '新型コロナウイルスに関連した患者（１４９例目）の発生について（報道発表資料:PDF）'],\n",
       " ['http://www.pref.hokkaido.lg.jp/file.jsp?id=1279558',\n",
       "  '新型コロナウイルスに関連した患者（１４５～１４８例目）の発生について（報道発表資料:PDF）'],\n",
       " ['http://www.pref.hokkaido.lg.jp/file.jsp?id=1279527',\n",
       "  '新型コロナウイルスに関連した新たな患者（１４３～１４４例目）の発生について（札幌市報道発表資料:PDF）'],\n",
       " ['http://www.pref.hokkaido.lg.jp/file.jsp?id=1279517',\n",
       "  '新型コロナウイルスに関連した新たな患者（１３８～１４２例目）の発生について（札幌市報道発表資料:PDF）'],\n",
       " ['http://www.pref.hokkaido.lg.jp/file.jsp?id=1279512',\n",
       "  '新型コロナウイルスに関連した患者（１３７例目）の発生について（札幌市報道発表資料:PDF）'],\n",
       " ['http://www.pref.hokkaido.lg.jp/file.jsp?id=1279434',\n",
       "  '新型コロナウイルスに関連した患者（１３４～１３６例目）の発生について（報道発表資料:PDF）'],\n",
       " ['http://www.pref.hokkaido.lg.jp/file.jsp?id=1279351',\n",
       "  '新型コロナウイルスに関連した新たな患者（１２９～１３３例目）の発生について（札幌市報道発表資料:PDF）'],\n",
       " ['http://www.pref.hokkaido.lg.jp/file.jsp?id=1278897',\n",
       "  '新型コロナウイルスに関連した患者（１１９例目）の発生について（小樽市報道発表資料:PDF）'],\n",
       " ['http://www.pref.hokkaido.lg.jp/file.jsp?id=1279046',\n",
       "  '新型コロナウイルスに関連した患者（１２０～１２８例目）の発生について（札幌市報道発表資料:PDF）'],\n",
       " ['http://www.pref.hokkaido.lg.jp/file.jsp?id=1278494',\n",
       "  '新型コロナウイルスに関連した患者（１１８例目）の発生について（旭川市報道発表資料:PDF）'],\n",
       " ['http://www.pref.hokkaido.lg.jp/file.jsp?id=1278489',\n",
       "  '新型コロナウイルスに関連した患者（１１６、１１７例目）の発生について（報道発表資料:PDF）'],\n",
       " ['http://www.pref.hokkaido.lg.jp/file.jsp?id=1278421',\n",
       "  '新型コロナウイルスに関連した新たな患者（１１２～１１５例目）の発生について（札幌市報道発表資料:PDF）'],\n",
       " ['http://www.pref.hokkaido.lg.jp/file.jsp?id=1278159',\n",
       "  '新型コロナウイルスに関連した新たな患者（１０９～１１１例目）の発生について（札幌市報道発表資料:PDF）'],\n",
       " ['http://www.pref.hokkaido.lg.jp/file.jsp?id=1277611',\n",
       "  '新型コロナウイルスに関連した患者（１０７、１０８例目）の発生について（報道発表資料:PDF）'],\n",
       " ['http://www.pref.hokkaido.lg.jp/file.jsp?id=1277515',\n",
       "  '新型コロナウイルスに関連した新たな患者（１０２～１０６例目）の発生について（札幌市報道発表資料:PDF）'],\n",
       " ['http://www.pref.hokkaido.lg.jp/file.jsp?id=1277179',\n",
       "  '新型コロナウイルスに関連した患者（１０１例目）の発生について（旭川市報道発表資料:PDF）'],\n",
       " ['http://www.pref.hokkaido.lg.jp/file.jsp?id=1277177',\n",
       "  '新型コロナウイルスに関連した患者（９９～１０１例目）の発生について（報道発表資料:PDF）'],\n",
       " ['http://www.pref.hokkaido.lg.jp/file.jsp?id=1277156',\n",
       "  '新型コロナウイルスに関連した新たな患者（９３～９８例目）の発生について（札幌市報道発表資料:PDF）'],\n",
       " ['http://www.pref.hokkaido.lg.jp/file.jsp?id=1277150',\n",
       "  '新型コロナウイルスに関連した患者（９１、９２例目）の発生について（報道発表資料:PDF）'],\n",
       " ['http://www.pref.hokkaido.lg.jp/file.jsp?id=1277048',\n",
       "  '新型コロナウイルスに関連した患者（８７～９０例目）の発生について（報道発表資料:PDF）'],\n",
       " ['http://www.pref.hokkaido.lg.jp/file.jsp?id=1276942',\n",
       "  '新型コロナウイルスに関連した新たな患者（８４～８６例目）の発生について（札幌市報道発表資料:PDF）'],\n",
       " ['http://www.pref.hokkaido.lg.jp/file.jsp?id=1276460',\n",
       "  '新型コロナウイルスに関連した新たな患者（８３例目）の発生について（札幌市報道発表資料:PDF）'],\n",
       " ['http://www.pref.hokkaido.lg.jp/file.jsp?id=1276210',\n",
       "  '新型コロナウイルスに関連した患者（８０～８２例目）の発生について（報道発表資料:PDF）'],\n",
       " ['http://www.pref.hokkaido.lg.jp/file.jsp?id=1275703',\n",
       "  '新型コロナウイルスに関連した新たな患者（７８、７９例目）の発生について（札幌市報道発表資料:PDF）'],\n",
       " ['http://www.pref.hokkaido.lg.jp/file.jsp?id=1275321',\n",
       "  '新型コロナウイルスに関連した患者（７６例目）の発生について（旭川市報道発表資料:PDF）'],\n",
       " ['http://www.pref.hokkaido.lg.jp/file.jsp?id=1275307',\n",
       "  '新型コロナウイルスに関連した患者（７３～７７例目）の発生について（報道発表資料:PDF）'],\n",
       " ['http://www.pref.hokkaido.lg.jp/file.jsp?id=1275295',\n",
       "  '新型コロナウイルスに関連した新たな患者（７７例目）の発生について（札幌市報道発表資料:PDF）'],\n",
       " ['http://www.pref.hokkaido.lg.jp/file.jsp?id=1274875',\n",
       "  '新型コロナウイルスに関連した患者（７１、７２例目）の発生について（報道発表資料:PDF）'],\n",
       " ['http://www.pref.hokkaido.lg.jp/file.jsp?id=1274858',\n",
       "  '新型コロナウイルスに関連した新たな患者（６８～７０例目）の発生について（札幌市報道発表資料:PDF）'],\n",
       " ['http://www.pref.hokkaido.lg.jp/file.jsp?id=1274856',\n",
       "  '新型コロナウイルスに関連した患者（６７例目）の発生について（報道発表資料:PDF）\\n'],\n",
       " ['http://www.pref.hokkaido.lg.jp/file.jsp?id=1274760',\n",
       "  '新型コロナウイルスに関連した患者（５５～６６例目）の発生について（報道発表資料:PDF）'],\n",
       " ['http://www.pref.hokkaido.lg.jp/file.jsp?id=1274757',\n",
       "  '新型コロナウイルスに関連した新たな患者（６４～６６例目）の発生について（札幌市報道発表資料:PDF）'],\n",
       " ['http://www.pref.hokkaido.lg.jp/file.jsp?id=1274140',\n",
       "  '新型コロナウイルスに関連した患者（４２～５４例目）の発生について（報道発表資料:PDF）'],\n",
       " ['http://www.pref.hokkaido.lg.jp/file.jsp?id=1274042',\n",
       "  '新型コロナウイルスに関連した患者新たな患者（４０～４１例目）の発生について（札幌市報道発表資料:PDF）'],\n",
       " ['http://www.pref.hokkaido.lg.jp/file.jsp?id=1273298',\n",
       "  '新型コロナウイルスに関連した患者（３６～３８例目）の発生について（報道発表資料:PDF）\\n'],\n",
       " ['http://www.pref.hokkaido.lg.jp/file.jsp?id=1273297',\n",
       "  '新型コロナウイルスに関連した患者（３９例目）の発生について（札幌市報道発表資料:PDF）'],\n",
       " ['http://www.pref.hokkaido.lg.jp/file.jsp?id=1273384',\n",
       "  '新型コロナウイルスに関連した患者（３４例目）の発生について（旭川市報道発表資料:PDF）'],\n",
       " ['http://www.pref.hokkaido.lg.jp/file.jsp?id=1272937',\n",
       "  '新型コロナウイルスに関連した患者（３２～３５例目）の発生について（報道発表資料:PDF）'],\n",
       " ['http://www.pref.hokkaido.lg.jp/file.jsp?id=1272626',\n",
       "  '＜速報＞新型コロナウイルスに関連した患者（３２～３５例目）の発生について（報道発表資料:PDF）'],\n",
       " ['http://www.pref.hokkaido.lg.jp/file.jsp?id=1272453',\n",
       "  '新型コロナウイルスに関連した患者（３１例目）の発生について（札幌市報道発表資料：PDF）'],\n",
       " ['http://www.pref.hokkaido.lg.jp/file.jsp?id=1271957',\n",
       "  '新型コロナウイルスに関連した患者（２９～３０例目）の発生について（報道発表資料：PDF）'],\n",
       " ['http://www.pref.hokkaido.lg.jp/file.jsp?id=1271956',\n",
       "  '新型コロナウイルスに関連した患者（１９～２０例目）の発生について（旭川市報道発表資料：PDF）'],\n",
       " ['http://www.pref.hokkaido.lg.jp/file.jsp?id=1271954',\n",
       "  '新型コロナウイルスに関連した患者（２７～２８例目）の発生について（札幌市報道発表資料：PDF）\\n'],\n",
       " ['http://www.pref.hokkaido.lg.jp/file.jsp?id=1271942',\n",
       "  '新型コロナウイルスに関連した患者（２１～２６例目）の発生について（報道発表資料：PDF）'],\n",
       " ['http://www.pref.hokkaido.lg.jp/file.jsp?id=1271928',\n",
       "  '新型コロナウイルスに関連した患者（１８例目）の発生について（札幌市報道発表資料：PDF）'],\n",
       " ['http://www.pref.hokkaido.lg.jp/file.jsp?id=1271921',\n",
       "  '新型コロナウイルスに関連した患者（１７例目）の発生について（報道発表資料：PDF）'],\n",
       " ['http://www.pref.hokkaido.lg.jp/file.jsp?id=1271917',\n",
       "  '新型コロナウイルスに関連した患者（９～１６例目）の発生について（臨時記者会見資料：PDF）']]"
      ]
     },
     "execution_count": 7,
     "metadata": {},
     "output_type": "execute_result"
    }
   ],
   "source": [
    "links = get_links(urls)\n",
    "links"
   ]
  },
  {
   "cell_type": "code",
   "execution_count": 8,
   "metadata": {},
   "outputs": [],
   "source": [
    "# export\n",
    "def parse_links(links):\n",
    "    refs = {}\n",
    "    for link in links:\n",
    "        nums = [re.sub(\"\\\\D\", \"\", s) for s in re.split('[～、]', link[1])]\n",
    "        if len(nums) == 1:\n",
    "            refs[str(int(nums[0]))] = link[0]\n",
    "        else:\n",
    "            for i in range(int(nums[0]), int(nums[1])+ 1):\n",
    "                refs[str(i)] = link[0]\n",
    "    return refs"
   ]
  },
  {
   "cell_type": "code",
   "execution_count": 9,
   "metadata": {},
   "outputs": [],
   "source": [
    "refs = parse_links(links)\n",
    "#refs"
   ]
  },
  {
   "cell_type": "code",
   "execution_count": 10,
   "metadata": {},
   "outputs": [],
   "source": [
    "src = get_src(urls[0])\n",
    "#src"
   ]
  },
  {
   "cell_type": "code",
   "execution_count": 11,
   "metadata": {},
   "outputs": [],
   "source": [
    "def show_contents(url):\n",
    "    src = get_src(url)\n",
    "    \n",
    "    def get_text(tag):\n",
    "        return tag.get_text().strip()\n",
    "    \n",
    "    return src.body.find(lambda tag: tag.name == 'tbody')"
   ]
  },
  {
   "cell_type": "code",
   "execution_count": 12,
   "metadata": {},
   "outputs": [],
   "source": [
    "src = show_contents(urls[0])\n",
    "#src"
   ]
  },
  {
   "cell_type": "code",
   "execution_count": 13,
   "metadata": {},
   "outputs": [],
   "source": [
    "#export\n",
    "header = ['No','公表日','年代','性別','居住地','周囲の患者の発生','濃厚接触者の状況','url']"
   ]
  },
  {
   "cell_type": "code",
   "execution_count": 14,
   "metadata": {},
   "outputs": [],
   "source": [
    "#export\n",
    "def parse(src, url, refs):\n",
    "    patients = []\n",
    "    tbody = src.body.find(lambda tag: tag.name == 'tbody')\n",
    "    for tr in tbody.find_all('tr'):\n",
    "        row = []\n",
    "        for td in tr.find_all('td'):\n",
    "            text = []\n",
    "            for c in [c.string for c in td.contents if c.string]: # <br/> を削除\n",
    "                if c != '\\xa0' and c != '\\n' and c != '\\r\\n' and len(c.strip()) != 0: # <br/> で区切られていたこれらの文字を削除\n",
    "                    text.append(str(re.sub('[\\xa0\\r\\n]', '', c))) # 文字列の一部として含まれる '\\xa0' を削除\n",
    "            row.append('\\n'.join(text))\n",
    "        if row[0].isdecimal() : row[0] = str(int(row[0])) # No を ascii へ変換\n",
    "        row.append(refs.get(row[0], url)) # url を追加\n",
    "        patients.append(row)\n",
    "    return patients[1:]"
   ]
  },
  {
   "cell_type": "code",
   "execution_count": 15,
   "metadata": {},
   "outputs": [],
   "source": [
    "#export\n",
    "def get_patient(url):\n",
    "    links = get_links(url)\n",
    "    refs = parse_links(links)\n",
    "    src = get_src(url[0])\n",
    "    return parse(src, url[0], refs)"
   ]
  },
  {
   "cell_type": "code",
   "execution_count": 16,
   "metadata": {},
   "outputs": [],
   "source": [
    "patients = get_patient(urls)\n",
    "#patients"
   ]
  },
  {
   "cell_type": "code",
   "execution_count": 17,
   "metadata": {},
   "outputs": [],
   "source": [
    "def get_sample(urls, i):\n",
    "    links = get_links(urls)\n",
    "    return get_src(links[i][0])\n",
    "#get_sample(urls, 0)"
   ]
  },
  {
   "cell_type": "code",
   "execution_count": 18,
   "metadata": {},
   "outputs": [],
   "source": [
    "#export\n",
    "def create_fname(base):\n",
    "    now = datetime.datetime.now()\n",
    "    return base + '_' + now.strftime('%Y%m%dT%H%M') + \".csv\""
   ]
  },
  {
   "cell_type": "code",
   "execution_count": 19,
   "metadata": {},
   "outputs": [],
   "source": [
    "#export\n",
    "def write_csv(patients, fname):\n",
    "    with open(fname, 'w') as f:\n",
    "        writer = csv.writer(f)\n",
    "        writer.writerows(patients)"
   ]
  },
  {
   "cell_type": "code",
   "execution_count": 20,
   "metadata": {},
   "outputs": [],
   "source": [
    "#export\n",
    "def main():\n",
    "    patients = sorted(get_patient(urls), key=lambda x: int(x[0]))\n",
    "    patients.insert(0, header)\n",
    "    fname = create_fname(\"data/01-pref-hokkaido\")\n",
    "    write_csv(patients, fname)\n",
    "    print(\"created:\", fname)"
   ]
  },
  {
   "cell_type": "code",
   "execution_count": 21,
   "metadata": {},
   "outputs": [
    {
     "name": "stdout",
     "output_type": "stream",
     "text": [
      "created: data/01-pref-hokkaido_20200412T1854.csv\n"
     ]
    }
   ],
   "source": [
    "#export\n",
    "if __name__ == '__main__':\n",
    "    main()"
   ]
  },
  {
   "cell_type": "code",
   "execution_count": 22,
   "metadata": {},
   "outputs": [
    {
     "name": "stdout",
     "output_type": "stream",
     "text": [
      "Converted 01-pref-hokkaido_dev.ipynb to exp/nb_01-pref-hokkaido.py\n"
     ]
    }
   ],
   "source": [
    "# See: https://github.com/fastai/course-v3/blob/master/nbs/dl2/notebook2script.py\n",
    "!python notebook2script.py 01-pref-hokkaido_dev.ipynb"
   ]
  },
  {
   "cell_type": "code",
   "execution_count": null,
   "metadata": {},
   "outputs": [],
   "source": []
  }
 ],
 "metadata": {
  "kernelspec": {
   "display_name": "Environment (conda_pytorch131)",
   "language": "python",
   "name": "conda_pytorch131"
  },
  "language_info": {
   "codemirror_mode": {
    "name": "ipython",
    "version": 3
   },
   "file_extension": ".py",
   "mimetype": "text/x-python",
   "name": "python",
   "nbconvert_exporter": "python",
   "pygments_lexer": "ipython3",
   "version": "3.7.5"
  }
 },
 "nbformat": 4,
 "nbformat_minor": 4
}
