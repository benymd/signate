{
 "cells": [
  {
   "cell_type": "markdown",
   "metadata": {},
   "source": [
    "# 埼玉県　報道発表資料"
   ]
  },
  {
   "cell_type": "markdown",
   "metadata": {},
   "source": [
    "埼玉県が発表した新型コロナの患者情報のスクレイピングを行います。県内他の市町村から発表された情報は含まれていません。"
   ]
  },
  {
   "cell_type": "code",
   "execution_count": 1,
   "metadata": {},
   "outputs": [],
   "source": [
    "%reload_ext autoreload\n",
    "%autoreload 2\n",
    "%matplotlib inline"
   ]
  },
  {
   "cell_type": "code",
   "execution_count": 2,
   "metadata": {},
   "outputs": [],
   "source": [
    "#export\n",
    "import bs4\n",
    "import re\n",
    "import csv\n",
    "import datetime\n",
    "import requests\n",
    "from collections import defaultdict"
   ]
  },
  {
   "cell_type": "code",
   "execution_count": 3,
   "metadata": {},
   "outputs": [],
   "source": [
    "#export\n",
    "urls = ['https://www.pref.saitama.lg.jp/kense/shiryo/nyu-su/2020/4gatsu/index.html',\n",
    "        'https://www.pref.saitama.lg.jp/kense/shiryo/nyu-su/2020/3gatsu/index.html',\n",
    "        'https://www.pref.saitama.lg.jp/kense/shiryo/nyu-su/2020/2gatsu/index.html']"
   ]
  },
  {
   "cell_type": "code",
   "execution_count": 4,
   "metadata": {},
   "outputs": [],
   "source": [
    "#export\n",
    "def get_src(url):\n",
    "    response = requests.get(url)\n",
    "    response.encoding = response.apparent_encoding\n",
    "    return bs4.BeautifulSoup(response.text, 'html.parser')"
   ]
  },
  {
   "cell_type": "code",
   "execution_count": 5,
   "metadata": {},
   "outputs": [],
   "source": [
    "#export\n",
    "def get_links(urls):\n",
    "    domain = 'https://www.pref.saitama.lg.jp'\n",
    "    filter = '新型コロナウイルス.+患者.+発生'\n",
    "    links = []\n",
    "    for url in urls:\n",
    "        src = get_src(url)\n",
    "        links.extend(src.find_all(lambda tag: tag.name == 'a' and re.search(filter, tag.get_text()) != None))\n",
    "    return [[domain + tag['href'], tag.get_text()] for tag in links]"
   ]
  },
  {
   "cell_type": "code",
   "execution_count": 6,
   "metadata": {},
   "outputs": [
    {
     "data": {
      "text/plain": [
       "[['https://www.pref.saitama.lg.jp/a0001/news/page/2020/0412-02.html',\n",
       "  '新型コロナウイルスに関連した患者等の発生について（県内357～363例目、379～403例目、県発表243例目～274例目）'],\n",
       " ['https://www.pref.saitama.lg.jp/a0001/news/page/2020/0411-01.html',\n",
       "  '新型コロナウイルスに関連した患者等の発生について（県内339～356例目、県発表225例目～242例目）'],\n",
       " ['https://www.pref.saitama.lg.jp/a0001/news/page/2020/0410-07.html',\n",
       "  '新型コロナウイルスに関連した患者等の発生について（県内288、299～338例目、県発表184例目～224例目）'],\n",
       " ['https://www.pref.saitama.lg.jp/a0001/news/page/2020/0409-04.html',\n",
       "  '新型コロナウイルスに関連した患者の発生について（県内252、253例目、266～287例目、県発表160例目～183例目）'],\n",
       " ['https://www.pref.saitama.lg.jp/a0001/news/page/2020/0408-2.html',\n",
       "  '新型コロナウイルスに関連した患者の発生について（県内229例目～251例目、県発表137例目～159例目）'],\n",
       " ['https://www.pref.saitama.lg.jp/a0001/news/page/2020/0407-04.html',\n",
       "  '新型コロナウイルスに関連した患者の発生について（県内203例目～207例目、県発表132例目～136例目）'],\n",
       " ['https://www.pref.saitama.lg.jp/a0001/news/page/2020/0406-05.html',\n",
       "  '新型コロナウイルスに関連した患者等の発生について県内191例目～201例目、県発表121例目～131例目）'],\n",
       " ['https://www.pref.saitama.lg.jp/a0001/news/page/2020/0405-01.html',\n",
       "  '新型コロナウイルスに関連した患者等の発生について（県内153例目、169例目～186例目、県発表102～120例目）'],\n",
       " ['https://www.pref.saitama.lg.jp/a0001/news/page/2020/0404-01.html',\n",
       "  '新型コロナウイルスに関連した患者の発生について（県内139例目～152例目、県発表88～101例目）'],\n",
       " ['https://www.pref.saitama.lg.jp/a0001/news/page/2020/0403-03.html',\n",
       "  '新型コロナウイルスに関連した患者の発生について（県内112例目・113例目、123例目～133例目、県発表75～87例目）'],\n",
       " ['https://www.pref.saitama.lg.jp/a0001/news/page/2020/0402-02.html',\n",
       "  '新型コロナウイルスに関連した患者の発生について（県内107～111例目、県発表70～74例目）'],\n",
       " ['https://www.pref.saitama.lg.jp/a0001/news/page/2020/0401-08.html',\n",
       "  '新型コロナウイルスに関連した患者等の発生について（県内105～106例目、県発表68～69例目）'],\n",
       " ['https://www.pref.saitama.lg.jp/a0001/news/page/2019/0331-11.html',\n",
       "  '新型コロナウイルスに関連した患者等の発生について（県内94～103例目、県発表58～67例目）'],\n",
       " ['https://www.pref.saitama.lg.jp/a0001/news/page/2019/0329-01.html',\n",
       "  '新型コロナウイルスに関連した患者の発生について（県内83～84例目、県発表56～57例目）'],\n",
       " ['https://www.pref.saitama.lg.jp/a0001/news/page/2019/0328-01.html',\n",
       "  '新型コロナウイルスに関連した患者等の発生について（県内78～82例目、県発表51～55例目）'],\n",
       " ['https://www.pref.saitama.lg.jp/a0001/news/page/2019/0327-21.html',\n",
       "  '新型コロナウイルスに関連した患者の発生について（県内74～76例目、県発表48～50例目）'],\n",
       " ['https://www.pref.saitama.lg.jp/a0001/news/page/2019/0326-90.html',\n",
       "  '新型コロナウイルスに関連した患者の発生について（県内66～70例目、県発表43～47例目）'],\n",
       " ['https://www.pref.saitama.lg.jp/a0001/news/page/2019/0325-07.html',\n",
       "  '新型コロナウイルスに関連した患者等の発生について（県内63例目、県発表42例目）'],\n",
       " ['https://www.pref.saitama.lg.jp/a0001/news/page/2019/0324-10.html',\n",
       "  '新型コロナウイルスに関連した患者の発生について（県内56～61例目、県発表36～41例目）'],\n",
       " ['https://www.pref.saitama.lg.jp/a0001/news/page/2019/0323-13.html',\n",
       "  '新型コロナウイルスに関連した患者の発生について（県内55例目、県発表35例目）'],\n",
       " ['https://www.pref.saitama.lg.jp/a0001/news/page/2019/0322-01.html',\n",
       "  '新型コロナウイルスに関連した患者の発生について（県内53、54例目、県発表33、34例目）'],\n",
       " ['https://www.pref.saitama.lg.jp/a0001/news/page/2019/0321-01.html',\n",
       "  '新型コロナウイルスに関連した患者の発生について（県内46、47例目、県発表31、32例目）'],\n",
       " ['https://www.pref.saitama.lg.jp/a0001/news/page/2019/0320-01.html',\n",
       "  '新型コロナウイルスに関連した患者等の発生について（県内44例目、県発表30例目）'],\n",
       " ['https://www.pref.saitama.lg.jp/a0001/news/page/2019/0319-08.html',\n",
       "  '新型コロナウイルスに関連した患者の発生について（県内39～42例目、県発表26～29例目）'],\n",
       " ['https://www.pref.saitama.lg.jp/a0001/news/page/2019/0318-08.html',\n",
       "  '新型コロナウイルスに関連した患者の発生について（県内38例目、県発表25例目）'],\n",
       " ['https://www.pref.saitama.lg.jp/a0001/news/page/2019/0317-04.html',\n",
       "  '新型コロナウイルスに関連した患者の発生について（県内34～37例目、県発表21～24例目）'],\n",
       " ['https://www.pref.saitama.lg.jp/a0001/news/page/2019/0314-01.html',\n",
       "  '新型コロナウイルスに関連した患者の発生について（県内31例目・32例目、県発表19例目・20例目）'],\n",
       " ['https://www.pref.saitama.lg.jp/a0001/news/page/2019/0313-06.html',\n",
       "  '新型コロナウイルスに関連した患者の発生について（25例目）'],\n",
       " ['https://www.pref.saitama.lg.jp/a0001/news/page/2019/0312-06.html',\n",
       "  '新型コロナウイルスに関連した患者の発生について（18例目～21例目）'],\n",
       " ['https://www.pref.saitama.lg.jp/a0001/news/page/2019/0311-04.html',\n",
       "  '新型コロナウイルスに関連した患者の発生について'],\n",
       " ['https://www.pref.saitama.lg.jp/a0001/news/page/2019/0310-05.html',\n",
       "  '新型コロナウイルスに関連した患者の発生について'],\n",
       " ['https://www.pref.saitama.lg.jp/a0001/news/page/2019/0308-01.html',\n",
       "  '新型コロナウイルスに関連した患者の発生について'],\n",
       " ['https://www.pref.saitama.lg.jp/a0001/news/page/2019/0306-10.html',\n",
       "  '新型コロナウイルスに関連した患者の発生について'],\n",
       " ['https://www.pref.saitama.lg.jp/a0001/news/page/2019/0305-08.html',\n",
       "  '新型コロナウイルスに関連した患者の発生について'],\n",
       " ['https://www.pref.saitama.lg.jp/a0001/news/page/2019/0221-99.html',\n",
       "  '新型コロナウイルスに関連した患者の発生について'],\n",
       " ['https://www.pref.saitama.lg.jp/a0001/news/page/2019/0211-01.html',\n",
       "  '新型コロナウイルスに関連した患者の発生について']]"
      ]
     },
     "execution_count": 6,
     "metadata": {},
     "output_type": "execute_result"
    }
   ],
   "source": [
    "links = get_links(urls)\n",
    "links"
   ]
  },
  {
   "cell_type": "code",
   "execution_count": 7,
   "metadata": {},
   "outputs": [],
   "source": [
    "#export\n",
    "def parse_url(url):\n",
    "    \"\"\" url から公表日を取得する \"\"\"\n",
    "    s = re.split(\"[:/|-]\", url)\n",
    "    return f'{s[7]}/{(s[8])[:2]}/{(s[8])[2:]}'"
   ]
  },
  {
   "cell_type": "code",
   "execution_count": 8,
   "metadata": {},
   "outputs": [
    {
     "data": {
      "text/plain": [
       "'https://www.pref.saitama.lg.jp/a0001/news/page/2020/0412-02.html'"
      ]
     },
     "execution_count": 8,
     "metadata": {},
     "output_type": "execute_result"
    }
   ],
   "source": [
    "links[0][0]"
   ]
  },
  {
   "cell_type": "code",
   "execution_count": 9,
   "metadata": {},
   "outputs": [
    {
     "data": {
      "text/plain": [
       "'2020/04/12'"
      ]
     },
     "execution_count": 9,
     "metadata": {},
     "output_type": "execute_result"
    }
   ],
   "source": [
    "parse_url(links[0][0])"
   ]
  },
  {
   "cell_type": "code",
   "execution_count": 10,
   "metadata": {},
   "outputs": [],
   "source": [
    "#export\n",
    "header = ['No','日付','年代','性別','国籍','職業','通勤','居住地','症状、経過','その他','url']"
   ]
  },
  {
   "cell_type": "code",
   "execution_count": 11,
   "metadata": {},
   "outputs": [],
   "source": [
    "#export\n",
    "def parse(src, url):\n",
    "    \n",
    "    def get_text(tag):\n",
    "        return tag.get_text().strip()\n",
    "    \n",
    "    def get_contents(src):\n",
    "        h = src.body.find(lambda tag: tag.name == 'h2' or tag.name == 'h3')\n",
    "        return h.previous_sibling.next_siblings\n",
    "    \n",
    "    def parse_h(e):\n",
    "        no = re.sub(\"\\\\D\", \"\", get_text(e))\n",
    "        return no if len(no) > 0 else '0'\n",
    "\n",
    "    def parse_p(e):\n",
    "        return re.split('[：:)）]', get_text(e))\n",
    "    \n",
    "    def parse_table(e):\n",
    "        table = []\n",
    "        for tr in e.find_all('tr'):\n",
    "            row = []\n",
    "            for td in tr.find_all('td'):\n",
    "                for p in td.find_all('p'):\n",
    "                    row.append(get_text(p))\n",
    "            table.append(' '.join(row))\n",
    "        return table\n",
    "\n",
    "    def parse_ul(e):\n",
    "        return [get_text(li) for li in e.find_all('li')]\n",
    "    \n",
    "    def parse_div(e):\n",
    "        ul = []\n",
    "        for c in e.descendants:\n",
    "            if c.name == 'p':\n",
    "                ul.append(get_text(c))\n",
    "        return ul\n",
    "    \n",
    "    def dic2array(item):\n",
    "        return [item[h] for h in header]\n",
    "\n",
    "    date = parse_url(url)\n",
    "    \n",
    "    patients = []\n",
    "    item = defaultdict(lambda: '')\n",
    "    for e in get_contents(src):\n",
    "        if isinstance(e, bs4.element.Tag):\n",
    "            if e.name == 'h2' or e.name == 'h3':\n",
    "                if not '概要' in e.get_text():\n",
    "                    break\n",
    "                if len(item) > 0:\n",
    "                    item['url'] = url\n",
    "                    item['日付'] = date\n",
    "                    patients.append(dic2array(item))\n",
    "                    item = defaultdict(lambda: '')\n",
    "                item[header[0]] = parse_h(e)\n",
    "            elif e.name == 'p':\n",
    "                x = parse_p(e)\n",
    "                if len(x) > 2: item[x[1]] = x[2]\n",
    "                if len(x) > 1: p = x[1]\n",
    "            elif e.name == 'table':\n",
    "                item[p] = '\\n'.join(parse_table(e))\n",
    "            elif e.name == 'ul':\n",
    "                item[p] = '\\n'.join(parse_ul(e))\n",
    "            elif e.name == 'div':\n",
    "                item[p] = '\\n'.join(parse_div(e))\n",
    "            else:\n",
    "                print(type(e), e.name)\n",
    "    if len(item) > 0:\n",
    "        item['url'] = url\n",
    "        item['日付'] = date\n",
    "        patients.append(dic2array(item))\n",
    "    return patients"
   ]
  },
  {
   "cell_type": "code",
   "execution_count": 12,
   "metadata": {},
   "outputs": [],
   "source": [
    "#export\n",
    "def get_patient(url):\n",
    "    src = get_src(url)\n",
    "    return parse(src, url)"
   ]
  },
  {
   "cell_type": "code",
   "execution_count": 13,
   "metadata": {},
   "outputs": [],
   "source": [
    "#export\n",
    "def get_patients(urls):\n",
    "    patients = []\n",
    "    for link in get_links(urls):\n",
    "        print(link)\n",
    "        patients.extend(get_patient(link[0]))\n",
    "    return patients"
   ]
  },
  {
   "cell_type": "code",
   "execution_count": 14,
   "metadata": {},
   "outputs": [],
   "source": [
    "def get_sample(urls, i):\n",
    "    links = get_links(urls)\n",
    "    return get_src(links[i][0])\n",
    "#get_sample(urls, 0)"
   ]
  },
  {
   "cell_type": "code",
   "execution_count": 15,
   "metadata": {},
   "outputs": [],
   "source": [
    "#export\n",
    "def create_fname(base):\n",
    "    now = datetime.datetime.now()\n",
    "    return base + '_' + now.strftime('%Y%m%dT%H%M') + \".csv\""
   ]
  },
  {
   "cell_type": "code",
   "execution_count": 16,
   "metadata": {},
   "outputs": [],
   "source": [
    "#export\n",
    "def write_csv(patients, fname):\n",
    "    with open(fname, 'w') as f:\n",
    "        writer = csv.writer(f)\n",
    "        writer.writerows(patients)"
   ]
  },
  {
   "cell_type": "code",
   "execution_count": 17,
   "metadata": {},
   "outputs": [],
   "source": [
    "#export\n",
    "def main():\n",
    "    patients = sorted(get_patients(urls), key=lambda x: int(x[0]))\n",
    "    patients.insert(0, header)\n",
    "    fname = create_fname(\"data/11-pref-saitama\")\n",
    "    write_csv(patients, fname)\n",
    "    print(\"created:\", fname)"
   ]
  },
  {
   "cell_type": "code",
   "execution_count": 18,
   "metadata": {},
   "outputs": [
    {
     "name": "stdout",
     "output_type": "stream",
     "text": [
      "['https://www.pref.saitama.lg.jp/a0001/news/page/2020/0412-02.html', '新型コロナウイルスに関連した患者等の発生について（県内357～363例目、379～403例目、県発表243例目～274例目）']\n",
      "['https://www.pref.saitama.lg.jp/a0001/news/page/2020/0411-01.html', '新型コロナウイルスに関連した患者等の発生について（県内339～356例目、県発表225例目～242例目）']\n",
      "['https://www.pref.saitama.lg.jp/a0001/news/page/2020/0410-07.html', '新型コロナウイルスに関連した患者等の発生について（県内288、299～338例目、県発表184例目～224例目）']\n",
      "['https://www.pref.saitama.lg.jp/a0001/news/page/2020/0409-04.html', '新型コロナウイルスに関連した患者の発生について（県内252、253例目、266～287例目、県発表160例目～183例目）']\n",
      "['https://www.pref.saitama.lg.jp/a0001/news/page/2020/0408-2.html', '新型コロナウイルスに関連した患者の発生について（県内229例目～251例目、県発表137例目～159例目）']\n",
      "['https://www.pref.saitama.lg.jp/a0001/news/page/2020/0407-04.html', '新型コロナウイルスに関連した患者の発生について（県内203例目～207例目、県発表132例目～136例目）']\n",
      "['https://www.pref.saitama.lg.jp/a0001/news/page/2020/0406-05.html', '新型コロナウイルスに関連した患者等の発生について県内191例目～201例目、県発表121例目～131例目）']\n",
      "['https://www.pref.saitama.lg.jp/a0001/news/page/2020/0405-01.html', '新型コロナウイルスに関連した患者等の発生について（県内153例目、169例目～186例目、県発表102～120例目）']\n",
      "['https://www.pref.saitama.lg.jp/a0001/news/page/2020/0404-01.html', '新型コロナウイルスに関連した患者の発生について（県内139例目～152例目、県発表88～101例目）']\n",
      "['https://www.pref.saitama.lg.jp/a0001/news/page/2020/0403-03.html', '新型コロナウイルスに関連した患者の発生について（県内112例目・113例目、123例目～133例目、県発表75～87例目）']\n",
      "['https://www.pref.saitama.lg.jp/a0001/news/page/2020/0402-02.html', '新型コロナウイルスに関連した患者の発生について（県内107～111例目、県発表70～74例目）']\n",
      "['https://www.pref.saitama.lg.jp/a0001/news/page/2020/0401-08.html', '新型コロナウイルスに関連した患者等の発生について（県内105～106例目、県発表68～69例目）']\n",
      "['https://www.pref.saitama.lg.jp/a0001/news/page/2019/0331-11.html', '新型コロナウイルスに関連した患者等の発生について（県内94～103例目、県発表58～67例目）']\n",
      "['https://www.pref.saitama.lg.jp/a0001/news/page/2019/0329-01.html', '新型コロナウイルスに関連した患者の発生について（県内83～84例目、県発表56～57例目）']\n",
      "['https://www.pref.saitama.lg.jp/a0001/news/page/2019/0328-01.html', '新型コロナウイルスに関連した患者等の発生について（県内78～82例目、県発表51～55例目）']\n",
      "['https://www.pref.saitama.lg.jp/a0001/news/page/2019/0327-21.html', '新型コロナウイルスに関連した患者の発生について（県内74～76例目、県発表48～50例目）']\n",
      "['https://www.pref.saitama.lg.jp/a0001/news/page/2019/0326-90.html', '新型コロナウイルスに関連した患者の発生について（県内66～70例目、県発表43～47例目）']\n",
      "['https://www.pref.saitama.lg.jp/a0001/news/page/2019/0325-07.html', '新型コロナウイルスに関連した患者等の発生について（県内63例目、県発表42例目）']\n",
      "['https://www.pref.saitama.lg.jp/a0001/news/page/2019/0324-10.html', '新型コロナウイルスに関連した患者の発生について（県内56～61例目、県発表36～41例目）']\n",
      "['https://www.pref.saitama.lg.jp/a0001/news/page/2019/0323-13.html', '新型コロナウイルスに関連した患者の発生について（県内55例目、県発表35例目）']\n",
      "['https://www.pref.saitama.lg.jp/a0001/news/page/2019/0322-01.html', '新型コロナウイルスに関連した患者の発生について（県内53、54例目、県発表33、34例目）']\n",
      "['https://www.pref.saitama.lg.jp/a0001/news/page/2019/0321-01.html', '新型コロナウイルスに関連した患者の発生について（県内46、47例目、県発表31、32例目）']\n",
      "['https://www.pref.saitama.lg.jp/a0001/news/page/2019/0320-01.html', '新型コロナウイルスに関連した患者等の発生について（県内44例目、県発表30例目）']\n",
      "['https://www.pref.saitama.lg.jp/a0001/news/page/2019/0319-08.html', '新型コロナウイルスに関連した患者の発生について（県内39～42例目、県発表26～29例目）']\n",
      "['https://www.pref.saitama.lg.jp/a0001/news/page/2019/0318-08.html', '新型コロナウイルスに関連した患者の発生について（県内38例目、県発表25例目）']\n",
      "['https://www.pref.saitama.lg.jp/a0001/news/page/2019/0317-04.html', '新型コロナウイルスに関連した患者の発生について（県内34～37例目、県発表21～24例目）']\n",
      "['https://www.pref.saitama.lg.jp/a0001/news/page/2019/0314-01.html', '新型コロナウイルスに関連した患者の発生について（県内31例目・32例目、県発表19例目・20例目）']\n",
      "['https://www.pref.saitama.lg.jp/a0001/news/page/2019/0313-06.html', '新型コロナウイルスに関連した患者の発生について（25例目）']\n",
      "['https://www.pref.saitama.lg.jp/a0001/news/page/2019/0312-06.html', '新型コロナウイルスに関連した患者の発生について（18例目～21例目）']\n",
      "['https://www.pref.saitama.lg.jp/a0001/news/page/2019/0311-04.html', '新型コロナウイルスに関連した患者の発生について']\n",
      "['https://www.pref.saitama.lg.jp/a0001/news/page/2019/0310-05.html', '新型コロナウイルスに関連した患者の発生について']\n",
      "['https://www.pref.saitama.lg.jp/a0001/news/page/2019/0308-01.html', '新型コロナウイルスに関連した患者の発生について']\n",
      "['https://www.pref.saitama.lg.jp/a0001/news/page/2019/0306-10.html', '新型コロナウイルスに関連した患者の発生について']\n",
      "['https://www.pref.saitama.lg.jp/a0001/news/page/2019/0305-08.html', '新型コロナウイルスに関連した患者の発生について']\n",
      "['https://www.pref.saitama.lg.jp/a0001/news/page/2019/0221-99.html', '新型コロナウイルスに関連した患者の発生について']\n",
      "['https://www.pref.saitama.lg.jp/a0001/news/page/2019/0211-01.html', '新型コロナウイルスに関連した患者の発生について']\n",
      "created: data/11-pref-saitama_20200412T2351.csv\n"
     ]
    }
   ],
   "source": [
    "#export\n",
    "if __name__ == '__main__':\n",
    "    main()"
   ]
  },
  {
   "cell_type": "code",
   "execution_count": 20,
   "metadata": {},
   "outputs": [
    {
     "name": "stdout",
     "output_type": "stream",
     "text": [
      "Converted 11-pref-saitama_dev.ipynb to exp/nb_11-pref-saitama.py\n"
     ]
    }
   ],
   "source": [
    "# See: https://github.com/fastai/course-v3/blob/master/nbs/dl2/notebook2script.py\n",
    "!python notebook2script.py 11-pref-saitama_dev.ipynb"
   ]
  },
  {
   "cell_type": "code",
   "execution_count": null,
   "metadata": {},
   "outputs": [],
   "source": []
  }
 ],
 "metadata": {
  "kernelspec": {
   "display_name": "Environment (conda_pytorch131)",
   "language": "python",
   "name": "conda_pytorch131"
  },
  "language_info": {
   "codemirror_mode": {
    "name": "ipython",
    "version": 3
   },
   "file_extension": ".py",
   "mimetype": "text/x-python",
   "name": "python",
   "nbconvert_exporter": "python",
   "pygments_lexer": "ipython3",
   "version": "3.7.5"
  }
 },
 "nbformat": 4,
 "nbformat_minor": 4
}
