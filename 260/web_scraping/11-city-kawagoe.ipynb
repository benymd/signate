{
 "cells": [
  {
   "cell_type": "markdown",
   "metadata": {},
   "source": [
    "# 埼玉県川越市　報道発表資料"
   ]
  },
  {
   "cell_type": "markdown",
   "metadata": {},
   "source": [
    "埼玉県川越市が発表した新型コロナの患者情報のスクレイピングを行います。"
   ]
  },
  {
   "cell_type": "code",
   "execution_count": 2,
   "metadata": {},
   "outputs": [
    {
     "name": "stdout",
     "output_type": "stream",
     "text": [
      "['https://www.city.kawagoe.saitama.jp//kenkofukushi/byoki_iryo/kansensho/COVID-19-p0408.html', '新型コロナウイルスに関連した患者の発生について（4月8日発表分）']\n",
      "['https://www.city.kawagoe.saitama.jp//kenkofukushi/byoki_iryo/kansensho/COVID-19-p0407.html', '新型コロナウイルスに関連した患者の発生について（4月7日発表分）']\n",
      "['https://www.city.kawagoe.saitama.jp//kenkofukushi/byoki_iryo/kansensho/COVID-19-p0405.html', '新型コロナウイルスに関連した患者の発生について（4月5日発表分）']\n",
      "['https://www.city.kawagoe.saitama.jp//kenkofukushi/byoki_iryo/kansensho/COVID-19-p0404.html', '新型コロナウイルスに関連した患者の発生について（4月4日発表分）']\n",
      "['https://www.city.kawagoe.saitama.jp//kenkofukushi/byoki_iryo/kansensho/COVID-19-p0403.html', '新型コロナウイルスに関連した患者の発生について(4月3日発表分) ']\n",
      "created: data/11-city-kawagoe_20200409T2129.csv\n"
     ]
    }
   ],
   "source": [
    "!python exp/nb_11-city-kawagoe.py"
   ]
  },
  {
   "cell_type": "code",
   "execution_count": null,
   "metadata": {},
   "outputs": [],
   "source": []
  }
 ],
 "metadata": {
  "kernelspec": {
   "display_name": "Environment (conda_pytorch131)",
   "language": "python",
   "name": "conda_pytorch131"
  },
  "language_info": {
   "codemirror_mode": {
    "name": "ipython",
    "version": 3
   },
   "file_extension": ".py",
   "mimetype": "text/x-python",
   "name": "python",
   "nbconvert_exporter": "python",
   "pygments_lexer": "ipython3",
   "version": "3.7.5"
  }
 },
 "nbformat": 4,
 "nbformat_minor": 4
}
