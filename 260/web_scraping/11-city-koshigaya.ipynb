{
 "cells": [
  {
   "cell_type": "markdown",
   "metadata": {},
   "source": [
    "# 埼玉県越谷市発表データの Web Scraping"
   ]
  },
  {
   "cell_type": "markdown",
   "metadata": {},
   "source": [
    "埼玉県越谷市が発表した新型コロナの患者情報のスクレイピングを行います。"
   ]
  },
  {
   "cell_type": "code",
   "execution_count": 1,
   "metadata": {},
   "outputs": [
    {
     "name": "stdout",
     "output_type": "stream",
     "text": [
      "['https://www.city.koshigaya.saitama.jp/kurashi_shisei/fukushi/hokenjo/kansensho/kansen_hassei8.html', '越谷市内における新型コロナウイルス感染症患者の発生について(4月7日発表)']\n",
      "['https://www.city.koshigaya.saitama.jp/kurashi_shisei/fukushi/hokenjo/kansensho/kansen_hassei7.html', '越谷市内における新型コロナウイルス感染症患者の発生について(4月5日発表)']\n",
      "['https://www.city.koshigaya.saitama.jp/kurashi_shisei/fukushi/hokenjo/kansensho/kansen_hassei6.html', '越谷市内における新型コロナウイルス感染症患者の発生について(4月4日発表)']\n",
      "['https://www.city.koshigaya.saitama.jp/kurashi_shisei/fukushi/hokenjo/kansensho/kansen_hassei5.html', '越谷市内における新型コロナウイルス感染症患者の発生について(4月2日発表)']\n",
      "['https://www.city.koshigaya.saitama.jp/kurashi_shisei/fukushi/hokenjo/kansensho/kansen_hassei4.html', '越谷市内における新型コロナウイルス感染症患者の発生について(3月31日発表)']\n",
      "['https://www.city.koshigaya.saitama.jp/kurashi_shisei/fukushi/hokenjo/kansensho/kansen_hassei3.html', '越谷市内における新型コロナウイルス感染症患者の発生について(3月20日発表)']\n",
      "['https://www.city.koshigaya.saitama.jp/kurashi_shisei/fukushi/hokenjo/kansensho/kansen_hassei2.html', '越谷市内における新型コロナウイルス感染症患者の発生について(3月14日発表)']\n",
      "['https://www.city.koshigaya.saitama.jp/kurashi_shisei/fukushi/hokenjo/kansensho/kansen_hassei.html', '越谷市内における新型コロナウイルス感染症患者の発生について(3月12日発表)']\n",
      "created: data/11-city-koshigaya_20200408T0010.csv\n"
     ]
    }
   ],
   "source": [
    "!python exp/nb_11-city-koshigaya.py"
   ]
  },
  {
   "cell_type": "code",
   "execution_count": null,
   "metadata": {},
   "outputs": [],
   "source": []
  }
 ],
 "metadata": {
  "kernelspec": {
   "display_name": "Environment (conda_pytorch131)",
   "language": "python",
   "name": "conda_pytorch131"
  },
  "language_info": {
   "codemirror_mode": {
    "name": "ipython",
    "version": 3
   },
   "file_extension": ".py",
   "mimetype": "text/x-python",
   "name": "python",
   "nbconvert_exporter": "python",
   "pygments_lexer": "ipython3",
   "version": "3.7.5"
  }
 },
 "nbformat": 4,
 "nbformat_minor": 4
}
