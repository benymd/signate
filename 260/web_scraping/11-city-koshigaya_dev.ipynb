{
 "cells": [
  {
   "cell_type": "markdown",
   "metadata": {},
   "source": [
    "# 埼玉県越谷市報道発表資料"
   ]
  },
  {
   "cell_type": "markdown",
   "metadata": {},
   "source": [
    "埼玉県越谷市が発表した新型コロナの患者情報のスクレイピングを行います。県内他の市町村から発表された情報は含まれていません。"
   ]
  },
  {
   "cell_type": "code",
   "execution_count": 1,
   "metadata": {},
   "outputs": [],
   "source": [
    "%reload_ext autoreload\n",
    "%autoreload 2\n",
    "%matplotlib inline"
   ]
  },
  {
   "cell_type": "code",
   "execution_count": 2,
   "metadata": {},
   "outputs": [],
   "source": [
    "#export\n",
    "import bs4\n",
    "import re\n",
    "import csv\n",
    "import datetime\n",
    "import requests\n",
    "from collections import defaultdict"
   ]
  },
  {
   "cell_type": "code",
   "execution_count": 3,
   "metadata": {},
   "outputs": [],
   "source": [
    "#export\n",
    "urls = ['https://www.city.koshigaya.saitama.jp/kurashi_shisei/fukushi/hokenjo/kansensho/index.html']"
   ]
  },
  {
   "cell_type": "code",
   "execution_count": 4,
   "metadata": {},
   "outputs": [],
   "source": [
    "#export\n",
    "def trim_div(s):\n",
    "    return re.sub('<div>|<div .+?>|</div>', '', s)"
   ]
  },
  {
   "cell_type": "code",
   "execution_count": 5,
   "metadata": {},
   "outputs": [],
   "source": [
    "#export\n",
    "def get_src(url):\n",
    "    response = requests.get(url)\n",
    "    response.encoding = response.apparent_encoding\n",
    "    s = trim_div(response.text)\n",
    "    return bs4.BeautifulSoup(s, 'html.parser')"
   ]
  },
  {
   "cell_type": "code",
   "execution_count": 6,
   "metadata": {},
   "outputs": [],
   "source": [
    "#export\n",
    "def get_links(urls):\n",
    "    domain = 'https://www.city.koshigaya.saitama.jp'\n",
    "    filter = '新型コロナウイルス.+患者.+発生'\n",
    "    links = []\n",
    "    for url in urls:\n",
    "        src = get_src(url)\n",
    "        links.extend(src.find_all(lambda tag: tag.name == 'a' and re.search(filter, tag.get_text()) != None))\n",
    "    return [[domain + tag['href'], tag.get_text()] for tag in links]"
   ]
  },
  {
   "cell_type": "code",
   "execution_count": 7,
   "metadata": {},
   "outputs": [
    {
     "data": {
      "text/plain": [
       "[['https://www.city.koshigaya.saitama.jp/kurashi_shisei/fukushi/hokenjo/kansensho/kansen_hassei8.html',\n",
       "  '越谷市内における新型コロナウイルス感染症患者の発生について(4月7日発表)'],\n",
       " ['https://www.city.koshigaya.saitama.jp/kurashi_shisei/fukushi/hokenjo/kansensho/kansen_hassei7.html',\n",
       "  '越谷市内における新型コロナウイルス感染症患者の発生について(4月5日発表)'],\n",
       " ['https://www.city.koshigaya.saitama.jp/kurashi_shisei/fukushi/hokenjo/kansensho/kansen_hassei6.html',\n",
       "  '越谷市内における新型コロナウイルス感染症患者の発生について(4月4日発表)'],\n",
       " ['https://www.city.koshigaya.saitama.jp/kurashi_shisei/fukushi/hokenjo/kansensho/kansen_hassei5.html',\n",
       "  '越谷市内における新型コロナウイルス感染症患者の発生について(4月2日発表)'],\n",
       " ['https://www.city.koshigaya.saitama.jp/kurashi_shisei/fukushi/hokenjo/kansensho/kansen_hassei4.html',\n",
       "  '越谷市内における新型コロナウイルス感染症患者の発生について(3月31日発表)'],\n",
       " ['https://www.city.koshigaya.saitama.jp/kurashi_shisei/fukushi/hokenjo/kansensho/kansen_hassei3.html',\n",
       "  '越谷市内における新型コロナウイルス感染症患者の発生について(3月20日発表)'],\n",
       " ['https://www.city.koshigaya.saitama.jp/kurashi_shisei/fukushi/hokenjo/kansensho/kansen_hassei2.html',\n",
       "  '越谷市内における新型コロナウイルス感染症患者の発生について(3月14日発表)'],\n",
       " ['https://www.city.koshigaya.saitama.jp/kurashi_shisei/fukushi/hokenjo/kansensho/kansen_hassei.html',\n",
       "  '越谷市内における新型コロナウイルス感染症患者の発生について(3月12日発表)']]"
      ]
     },
     "execution_count": 7,
     "metadata": {},
     "output_type": "execute_result"
    }
   ],
   "source": [
    "links = get_links(urls)\n",
    "links"
   ]
  },
  {
   "cell_type": "code",
   "execution_count": 8,
   "metadata": {},
   "outputs": [],
   "source": [
    "#export\n",
    "def parse(src, url):\n",
    "    \n",
    "    def get_text(tag):\n",
    "        return tag.get_text().strip()\n",
    "    \n",
    "    def get_contents(src):\n",
    "        h = src.body.find_all(lambda tag: tag.name == 'h2')\n",
    "        for h in src.body.find_all(lambda tag: tag.name == 'h2'):\n",
    "            t = h.get_text()\n",
    "            if '〜' in t: continue # \"nn例目〜nn例目\"\n",
    "            if '例目' in t: break\n",
    "        return h.previous_sibling.next_siblings\n",
    "    \n",
    "    def parse_h2(e):\n",
    "        no = re.sub(\"\\\\D\", \"\", get_text(e))\n",
    "        return no if len(no) > 0 else '0'\n",
    "\n",
    "    def parse_table(e):\n",
    "        table = []\n",
    "        for tr in e.find_all('tr'):\n",
    "            row = []\n",
    "            for td in tr.find_all('td'):\n",
    "                row.append(get_text(td))\n",
    "            table.append(' '.join(row))\n",
    "        return table\n",
    "\n",
    "    def parse_ul(e):\n",
    "        return [get_text(li) for li in e.find_all('li')]\n",
    "    \n",
    "    def parse_ol(e):\n",
    "        item = {}\n",
    "        for li in e.find_all('li'):\n",
    "            split = re.split('[：：]', get_text(li))\n",
    "            item[split[0]] = split[1]\n",
    "        return item\n",
    "    \n",
    "    def parse_div(e):\n",
    "        ul = []\n",
    "        for c in e.descendants:\n",
    "            if c.name == 'p':\n",
    "                ul.append(get_text(c))\n",
    "        return ul\n",
    "    \n",
    "    def dic2array(i):\n",
    "        return [i['概要'],i['年代'],i['性別'],i['国籍'],i['職業'],i['通勤'],i['居住地'],i['症状、経過'],i['その他'],i['url']]\n",
    "\n",
    "    patients = []\n",
    "    item = defaultdict(lambda: '')\n",
    "    for e in get_contents(src):\n",
    "        if isinstance(e, bs4.element.Tag):\n",
    "            if e.name == 'h2':\n",
    "                if 'お問い合わせ' in e.get_text(): break\n",
    "                if len(item) > 0:\n",
    "                    item['url'] = url\n",
    "                    patients.append(dic2array(item))\n",
    "                    item = defaultdict(lambda: '')\n",
    "                item['概要'] = parse_h2(e)\n",
    "            elif e.name == 'h3':\n",
    "                pass\n",
    "            elif e.name == 'table':\n",
    "                item['症状、経過'] = '\\n'.join(parse_table(e)).strip()\n",
    "            elif e.name == 'ul':\n",
    "                item['その他'] = '\\n'.join(parse_ul(e))\n",
    "            elif e.name == 'ol':\n",
    "                item.update(parse_ol(e))\n",
    "            elif e.name == 'p':\n",
    "                pass\n",
    "            else:\n",
    "                print(type(e), e.name)\n",
    "    if len(item) > 0:\n",
    "        item['url'] = url\n",
    "        patients.append(dic2array(item))\n",
    "    return patients"
   ]
  },
  {
   "cell_type": "code",
   "execution_count": 9,
   "metadata": {},
   "outputs": [],
   "source": [
    "#export\n",
    "def get_patient(url):\n",
    "    src = get_src(url)\n",
    "    return parse(src, url)"
   ]
  },
  {
   "cell_type": "code",
   "execution_count": 10,
   "metadata": {},
   "outputs": [],
   "source": [
    "#export\n",
    "def get_patients(urls):\n",
    "    patients = []\n",
    "    for link in get_links(urls):\n",
    "        print(link)\n",
    "        patients.extend(get_patient(link[0]))\n",
    "    return patients"
   ]
  },
  {
   "cell_type": "code",
   "execution_count": 11,
   "metadata": {},
   "outputs": [],
   "source": [
    "def get_sample(urls, i):\n",
    "    links = get_links(urls)\n",
    "    return get_src(links[i][0])\n",
    "#get_sample(urls, 0)"
   ]
  },
  {
   "cell_type": "code",
   "execution_count": 12,
   "metadata": {},
   "outputs": [],
   "source": [
    "#export\n",
    "def create_fname(base):\n",
    "    now = datetime.datetime.now()\n",
    "    return base + '_' + now.strftime('%Y%m%dT%H%M') + \".csv\""
   ]
  },
  {
   "cell_type": "code",
   "execution_count": 13,
   "metadata": {},
   "outputs": [],
   "source": [
    "#export\n",
    "def write_csv(patients, fname):\n",
    "    with open(fname, 'w') as f:\n",
    "        writer = csv.writer(f)\n",
    "        writer.writerows(patients)"
   ]
  },
  {
   "cell_type": "code",
   "execution_count": 14,
   "metadata": {},
   "outputs": [],
   "source": [
    "#export\n",
    "def main():\n",
    "    patients = sorted(get_patients(urls), key=lambda x: int(x[0]))\n",
    "    fname = create_fname(\"data/11-city-koshigaya\")\n",
    "    write_csv(patients, fname)\n",
    "    print(\"created:\", fname)"
   ]
  },
  {
   "cell_type": "code",
   "execution_count": 15,
   "metadata": {},
   "outputs": [
    {
     "name": "stdout",
     "output_type": "stream",
     "text": [
      "Converted 11-city-koshigaya_dev.ipynb to exp/nb_11-city-koshigaya.py\n"
     ]
    }
   ],
   "source": [
    "# See: https://github.com/fastai/course-v3/blob/master/nbs/dl2/notebook2script.py\n",
    "!python notebook2script.py 11-city-koshigaya_dev.ipynb"
   ]
  },
  {
   "cell_type": "code",
   "execution_count": 16,
   "metadata": {},
   "outputs": [
    {
     "name": "stdout",
     "output_type": "stream",
     "text": [
      "['https://www.city.koshigaya.saitama.jp/kurashi_shisei/fukushi/hokenjo/kansensho/kansen_hassei8.html', '越谷市内における新型コロナウイルス感染症患者の発生について(4月7日発表)']\n",
      "['https://www.city.koshigaya.saitama.jp/kurashi_shisei/fukushi/hokenjo/kansensho/kansen_hassei7.html', '越谷市内における新型コロナウイルス感染症患者の発生について(4月5日発表)']\n",
      "['https://www.city.koshigaya.saitama.jp/kurashi_shisei/fukushi/hokenjo/kansensho/kansen_hassei6.html', '越谷市内における新型コロナウイルス感染症患者の発生について(4月4日発表)']\n",
      "['https://www.city.koshigaya.saitama.jp/kurashi_shisei/fukushi/hokenjo/kansensho/kansen_hassei5.html', '越谷市内における新型コロナウイルス感染症患者の発生について(4月2日発表)']\n",
      "['https://www.city.koshigaya.saitama.jp/kurashi_shisei/fukushi/hokenjo/kansensho/kansen_hassei4.html', '越谷市内における新型コロナウイルス感染症患者の発生について(3月31日発表)']\n",
      "['https://www.city.koshigaya.saitama.jp/kurashi_shisei/fukushi/hokenjo/kansensho/kansen_hassei3.html', '越谷市内における新型コロナウイルス感染症患者の発生について(3月20日発表)']\n",
      "['https://www.city.koshigaya.saitama.jp/kurashi_shisei/fukushi/hokenjo/kansensho/kansen_hassei2.html', '越谷市内における新型コロナウイルス感染症患者の発生について(3月14日発表)']\n",
      "['https://www.city.koshigaya.saitama.jp/kurashi_shisei/fukushi/hokenjo/kansensho/kansen_hassei.html', '越谷市内における新型コロナウイルス感染症患者の発生について(3月12日発表)']\n",
      "created: data/11-city-koshigaya_20200408T0009.csv\n"
     ]
    }
   ],
   "source": [
    "#export\n",
    "if __name__ == '__main__':\n",
    "    main()"
   ]
  },
  {
   "cell_type": "code",
   "execution_count": null,
   "metadata": {},
   "outputs": [],
   "source": []
  }
 ],
 "metadata": {
  "kernelspec": {
   "display_name": "Environment (conda_pytorch131)",
   "language": "python",
   "name": "conda_pytorch131"
  },
  "language_info": {
   "codemirror_mode": {
    "name": "ipython",
    "version": 3
   },
   "file_extension": ".py",
   "mimetype": "text/x-python",
   "name": "python",
   "nbconvert_exporter": "python",
   "pygments_lexer": "ipython3",
   "version": "3.7.5"
  }
 },
 "nbformat": 4,
 "nbformat_minor": 4
}
